{
 "cells": [
  {
   "cell_type": "code",
   "execution_count": 62,
   "id": "11086ffa",
   "metadata": {},
   "outputs": [],
   "source": [
    "%load_ext pycodestyle_magic"
   ]
  },
  {
   "cell_type": "code",
   "execution_count": 63,
   "id": "1eabdde6",
   "metadata": {},
   "outputs": [],
   "source": [
    "%pycodestyle_on"
   ]
  },
  {
   "cell_type": "markdown",
   "id": "c3d4fed4",
   "metadata": {},
   "source": [
    "# Predictive Modelling for Salary Estimation\n",
    "\n",
    "The goal of this project is to build Machine Learning models that produce salary range estimates for jobs in the field of Software Engineering and Computer science based on current job offers found on the popular job board site [Indeed](https://ca.indeed.com/). "
   ]
  },
  {
   "cell_type": "markdown",
   "id": "ba0eb169",
   "metadata": {},
   "source": [
    "<div style=\"border-bottom: 3px solid black; margin-bottom:5px\"></div>\n",
    "<div style=\"border-bottom: 3px solid black\"></div>\n",
    "\n",
    "# 1. Web Scraping Job Postings from Indeed: \n",
    "\n",
    "In order to build my dataset, I needed to collect several thousands of job ads. To do so, I used the Indeed Scraper from [APIFY](https://apify.com/hynekhruska/indeed-scraper). Although I successfully built a web scraper of my own, the website would block it after collecting around 900 job ads. To circumvent this issue, and since I needed to collect a larger number of data points, I utilized Apify's pre-built Indeed scraper. \n",
    "\n",
    "Using keywords \"software engineering\" and \"computer science\" as job field entries and \"montreal qc\", \"toronto on\" and \"vancouver bc\" for the location field, I collected job offers for Canada's top 3 tech cities. The result was 6 csv files with columns = { \"positionName\", \"company\", \"location\", \"rating\", \"reviewsCount\", \"url\", \"id\", \"postedAt\", \"scrapedAt\", \"description\" }"
   ]
  },
  {
   "cell_type": "markdown",
   "id": "3f48a954",
   "metadata": {},
   "source": [
    "<div style=\"border-bottom: 3px solid black; margin-bottom:5px\"></div>\n",
    "<div style=\"border-bottom: 3px solid black\"></div>\n",
    "\n",
    "# 2. Dataset Preparation: \n",
    "\n",
    "Now that we have acquired our content, we proceed to enrichment with the goal of building a dataset fit for our machine learning models. This is an iterative process involving data exploration, cleaning, and feature engineering. "
   ]
  },
  {
   "cell_type": "code",
   "execution_count": 64,
   "id": "903d0564",
   "metadata": {},
   "outputs": [],
   "source": [
    "# Importing libraries\n",
    "import numpy as np\n",
    "import pandas as pd\n",
    "import matplotlib.pyplot as plt\n",
    "import seaborn as sns"
   ]
  },
  {
   "cell_type": "markdown",
   "id": "a6070428",
   "metadata": {},
   "source": [
    "<div style=\"border-bottom: 3px solid black;\"></div>\n",
    "\n",
    "### Task 2.1 &mdash; Load scraped datasets and combine into a single Pandas DataFrame"
   ]
  },
  {
   "cell_type": "code",
   "execution_count": 66,
   "id": "2fd958fa",
   "metadata": {},
   "outputs": [],
   "source": [
    "# read csv files containing scraped data for\n",
    "# cities = {Montreal, Toronto, Vancouver}\n",
    "mtl_soen_data = pd.read_csv(\"soen_mtl.csv\")\n",
    "mtl_comp_data = pd.read_csv(\"compsci_mtl.csv\")\n",
    "to_soen_data = pd.read_csv(\"soen_to.csv\")\n",
    "to_comp_data = pd.read_csv(\"compsci_to.csv\")\n",
    "van_soen_data = pd.read_csv(\"soen_van.csv\")\n",
    "van_comp_data = pd.read_csv(\"compsci_van.csv\")"
   ]
  },
  {
   "cell_type": "code",
   "execution_count": 67,
   "id": "22c22109",
   "metadata": {},
   "outputs": [],
   "source": [
    "# create a joint dataset for the scraped data\n",
    "joint_data = pd.concat([mtl_soen_data,\n",
    "                        mtl_comp_data,\n",
    "                        to_soen_data,\n",
    "                        to_comp_data,\n",
    "                        van_soen_data,\n",
    "                        van_comp_data], axis=0)"
   ]
  },
  {
   "cell_type": "code",
   "execution_count": 68,
   "id": "f2806c62",
   "metadata": {},
   "outputs": [
    {
     "data": {
      "text/plain": [
       "(5986, 11)"
      ]
     },
     "execution_count": 68,
     "metadata": {},
     "output_type": "execute_result"
    }
   ],
   "source": [
    "# check shape\n",
    "joint_data.shape"
   ]
  },
  {
   "cell_type": "code",
   "execution_count": 69,
   "id": "5577b78b",
   "metadata": {},
   "outputs": [
    {
     "data": {
      "text/html": [
       "<div>\n",
       "<style scoped>\n",
       "    .dataframe tbody tr th:only-of-type {\n",
       "        vertical-align: middle;\n",
       "    }\n",
       "\n",
       "    .dataframe tbody tr th {\n",
       "        vertical-align: top;\n",
       "    }\n",
       "\n",
       "    .dataframe thead th {\n",
       "        text-align: right;\n",
       "    }\n",
       "</style>\n",
       "<table border=\"1\" class=\"dataframe\">\n",
       "  <thead>\n",
       "    <tr style=\"text-align: right;\">\n",
       "      <th></th>\n",
       "      <th>company</th>\n",
       "      <th>description</th>\n",
       "      <th>id</th>\n",
       "      <th>location</th>\n",
       "      <th>positionName</th>\n",
       "      <th>postedAt</th>\n",
       "      <th>rating</th>\n",
       "      <th>reviewsCount</th>\n",
       "      <th>salary</th>\n",
       "      <th>scrapedAt</th>\n",
       "      <th>url</th>\n",
       "    </tr>\n",
       "  </thead>\n",
       "  <tbody>\n",
       "    <tr>\n",
       "      <th>0</th>\n",
       "      <td>Scrawlr Development Inc.</td>\n",
       "      <td>About ScrawlrScrawlr is a company building a s...</td>\n",
       "      <td>7caf9dd0cb72ecff</td>\n",
       "      <td>Montréal, QC</td>\n",
       "      <td>Intermediate Front-End Software Developer</td>\n",
       "      <td>Just posted</td>\n",
       "      <td>NaN</td>\n",
       "      <td>NaN</td>\n",
       "      <td>$72,000 - $89,000 a year</td>\n",
       "      <td>2022-04-05T19:38:07.461Z</td>\n",
       "      <td>https://www.indeed.ca/company/Virtus-Services-...</td>\n",
       "    </tr>\n",
       "    <tr>\n",
       "      <th>1</th>\n",
       "      <td>Joseph Ribkoff</td>\n",
       "      <td>Joseph Ribkoff designs classic and contemporar...</td>\n",
       "      <td>5a58d7dbc41ea8c6</td>\n",
       "      <td>Saint-Laurent, QC</td>\n",
       "      <td>Dynamics 365 Developer</td>\n",
       "      <td>Just posted</td>\n",
       "      <td>3.5</td>\n",
       "      <td>23.0</td>\n",
       "      <td>NaN</td>\n",
       "      <td>2022-04-05T19:38:08.732Z</td>\n",
       "      <td>https://www.indeed.ca/rc/clk?jk=5a58d7dbc41ea8...</td>\n",
       "    </tr>\n",
       "    <tr>\n",
       "      <th>2</th>\n",
       "      <td>TELUS International</td>\n",
       "      <td>Full Stack Developer (React.js &amp; Node.js)Descr...</td>\n",
       "      <td>b2e0c233222a2f9e</td>\n",
       "      <td>Canada</td>\n",
       "      <td>Full Stack Developer (React.js &amp; Node.js)</td>\n",
       "      <td>Just posted</td>\n",
       "      <td>NaN</td>\n",
       "      <td>NaN</td>\n",
       "      <td>$55 - $60 an hour</td>\n",
       "      <td>2022-04-05T19:38:12.450Z</td>\n",
       "      <td>https://www.indeed.ca/pagead/clk?mo=r&amp;ad=-6NYl...</td>\n",
       "    </tr>\n",
       "    <tr>\n",
       "      <th>3</th>\n",
       "      <td>SAP</td>\n",
       "      <td>What we offer\\nOur company culture is focused ...</td>\n",
       "      <td>40f439836db66616</td>\n",
       "      <td>Montréal, QC</td>\n",
       "      <td>SAP iXp Intern - Frontend Developer</td>\n",
       "      <td>Just posted</td>\n",
       "      <td>4.3</td>\n",
       "      <td>2622.0</td>\n",
       "      <td>NaN</td>\n",
       "      <td>2022-04-05T19:38:12.147Z</td>\n",
       "      <td>https://www.indeed.ca/rc/clk?jk=40f439836db666...</td>\n",
       "    </tr>\n",
       "    <tr>\n",
       "      <th>4</th>\n",
       "      <td>Scrawlr Development Inc.</td>\n",
       "      <td>About ScrawlrScrawlr is a company building a s...</td>\n",
       "      <td>0f011f6b4930681a</td>\n",
       "      <td>Montréal, QC</td>\n",
       "      <td>Senior Front-End Software Developer</td>\n",
       "      <td>Just posted</td>\n",
       "      <td>NaN</td>\n",
       "      <td>NaN</td>\n",
       "      <td>$85,000 - $110,000 a year</td>\n",
       "      <td>2022-04-05T19:38:13.750Z</td>\n",
       "      <td>https://www.indeed.ca/company/Virtus-Services-...</td>\n",
       "    </tr>\n",
       "  </tbody>\n",
       "</table>\n",
       "</div>"
      ],
      "text/plain": [
       "                    company  \\\n",
       "0  Scrawlr Development Inc.   \n",
       "1            Joseph Ribkoff   \n",
       "2       TELUS International   \n",
       "3                       SAP   \n",
       "4  Scrawlr Development Inc.   \n",
       "\n",
       "                                         description                id  \\\n",
       "0  About ScrawlrScrawlr is a company building a s...  7caf9dd0cb72ecff   \n",
       "1  Joseph Ribkoff designs classic and contemporar...  5a58d7dbc41ea8c6   \n",
       "2  Full Stack Developer (React.js & Node.js)Descr...  b2e0c233222a2f9e   \n",
       "3  What we offer\\nOur company culture is focused ...  40f439836db66616   \n",
       "4  About ScrawlrScrawlr is a company building a s...  0f011f6b4930681a   \n",
       "\n",
       "            location                               positionName     postedAt  \\\n",
       "0       Montréal, QC  Intermediate Front-End Software Developer  Just posted   \n",
       "1  Saint-Laurent, QC                     Dynamics 365 Developer  Just posted   \n",
       "2             Canada  Full Stack Developer (React.js & Node.js)  Just posted   \n",
       "3       Montréal, QC        SAP iXp Intern - Frontend Developer  Just posted   \n",
       "4       Montréal, QC        Senior Front-End Software Developer  Just posted   \n",
       "\n",
       "   rating  reviewsCount                     salary                 scrapedAt  \\\n",
       "0     NaN           NaN   $72,000 - $89,000 a year  2022-04-05T19:38:07.461Z   \n",
       "1     3.5          23.0                        NaN  2022-04-05T19:38:08.732Z   \n",
       "2     NaN           NaN          $55 - $60 an hour  2022-04-05T19:38:12.450Z   \n",
       "3     4.3        2622.0                        NaN  2022-04-05T19:38:12.147Z   \n",
       "4     NaN           NaN  $85,000 - $110,000 a year  2022-04-05T19:38:13.750Z   \n",
       "\n",
       "                                                 url  \n",
       "0  https://www.indeed.ca/company/Virtus-Services-...  \n",
       "1  https://www.indeed.ca/rc/clk?jk=5a58d7dbc41ea8...  \n",
       "2  https://www.indeed.ca/pagead/clk?mo=r&ad=-6NYl...  \n",
       "3  https://www.indeed.ca/rc/clk?jk=40f439836db666...  \n",
       "4  https://www.indeed.ca/company/Virtus-Services-...  "
      ]
     },
     "execution_count": 69,
     "metadata": {},
     "output_type": "execute_result"
    }
   ],
   "source": [
    "# Print the first 5 rows of the dataset\n",
    "joint_data.head()"
   ]
  },
  {
   "cell_type": "markdown",
   "id": "c84e723c",
   "metadata": {},
   "source": [
    "<div style=\"border-bottom: 3px solid black;\"></div>\n",
    "\n",
    "### Task 2.2 &mdash; Remove all job ads with undisclosed salary offer\n",
    "\n",
    "Out of the 5986 jobs scraped from Indeed, the only ones I can use in this project are the ones that disclose salary. I therefore need to eliminate all rows for which the value in the salary column in NaN."
   ]
  },
  {
   "cell_type": "code",
   "execution_count": 70,
   "id": "4afd3f3c",
   "metadata": {},
   "outputs": [
    {
     "data": {
      "text/html": [
       "<div>\n",
       "<style scoped>\n",
       "    .dataframe tbody tr th:only-of-type {\n",
       "        vertical-align: middle;\n",
       "    }\n",
       "\n",
       "    .dataframe tbody tr th {\n",
       "        vertical-align: top;\n",
       "    }\n",
       "\n",
       "    .dataframe thead th {\n",
       "        text-align: right;\n",
       "    }\n",
       "</style>\n",
       "<table border=\"1\" class=\"dataframe\">\n",
       "  <thead>\n",
       "    <tr style=\"text-align: right;\">\n",
       "      <th></th>\n",
       "      <th>company</th>\n",
       "      <th>description</th>\n",
       "      <th>id</th>\n",
       "      <th>location</th>\n",
       "      <th>positionName</th>\n",
       "      <th>postedAt</th>\n",
       "      <th>rating</th>\n",
       "      <th>reviewsCount</th>\n",
       "      <th>salary</th>\n",
       "      <th>scrapedAt</th>\n",
       "      <th>url</th>\n",
       "    </tr>\n",
       "  </thead>\n",
       "  <tbody>\n",
       "    <tr>\n",
       "      <th>0</th>\n",
       "      <td>Scrawlr Development Inc.</td>\n",
       "      <td>About ScrawlrScrawlr is a company building a s...</td>\n",
       "      <td>7caf9dd0cb72ecff</td>\n",
       "      <td>Montréal, QC</td>\n",
       "      <td>Intermediate Front-End Software Developer</td>\n",
       "      <td>Just posted</td>\n",
       "      <td>NaN</td>\n",
       "      <td>NaN</td>\n",
       "      <td>$72,000 - $89,000 a year</td>\n",
       "      <td>2022-04-05T19:38:07.461Z</td>\n",
       "      <td>https://www.indeed.ca/company/Virtus-Services-...</td>\n",
       "    </tr>\n",
       "    <tr>\n",
       "      <th>2</th>\n",
       "      <td>TELUS International</td>\n",
       "      <td>Full Stack Developer (React.js &amp; Node.js)Descr...</td>\n",
       "      <td>b2e0c233222a2f9e</td>\n",
       "      <td>Canada</td>\n",
       "      <td>Full Stack Developer (React.js &amp; Node.js)</td>\n",
       "      <td>Just posted</td>\n",
       "      <td>NaN</td>\n",
       "      <td>NaN</td>\n",
       "      <td>$55 - $60 an hour</td>\n",
       "      <td>2022-04-05T19:38:12.450Z</td>\n",
       "      <td>https://www.indeed.ca/pagead/clk?mo=r&amp;ad=-6NYl...</td>\n",
       "    </tr>\n",
       "    <tr>\n",
       "      <th>4</th>\n",
       "      <td>Scrawlr Development Inc.</td>\n",
       "      <td>About ScrawlrScrawlr is a company building a s...</td>\n",
       "      <td>0f011f6b4930681a</td>\n",
       "      <td>Montréal, QC</td>\n",
       "      <td>Senior Front-End Software Developer</td>\n",
       "      <td>Just posted</td>\n",
       "      <td>NaN</td>\n",
       "      <td>NaN</td>\n",
       "      <td>$85,000 - $110,000 a year</td>\n",
       "      <td>2022-04-05T19:38:13.750Z</td>\n",
       "      <td>https://www.indeed.ca/company/Virtus-Services-...</td>\n",
       "    </tr>\n",
       "    <tr>\n",
       "      <th>6</th>\n",
       "      <td>LearningBranch Inc.</td>\n",
       "      <td>Job Title: Senior Machine Learning EngineerSta...</td>\n",
       "      <td>f0350e40e06d39c7</td>\n",
       "      <td>Montréal, QC</td>\n",
       "      <td>Senior Machine Learning Engineer</td>\n",
       "      <td>Just posted</td>\n",
       "      <td>NaN</td>\n",
       "      <td>NaN</td>\n",
       "      <td>$65,000 - $120,000 a year</td>\n",
       "      <td>2022-04-05T19:38:16.469Z</td>\n",
       "      <td>https://www.indeed.ca/company/LearningBranch-I...</td>\n",
       "    </tr>\n",
       "    <tr>\n",
       "      <th>7</th>\n",
       "      <td>Scrawlr Development Inc.</td>\n",
       "      <td>About ScrawlrScrawlr is a company building a s...</td>\n",
       "      <td>8109b9b51e80a7aa</td>\n",
       "      <td>Montréal, QC</td>\n",
       "      <td>Lead Front-End Software Developer</td>\n",
       "      <td>Just posted</td>\n",
       "      <td>NaN</td>\n",
       "      <td>NaN</td>\n",
       "      <td>$87,000 - $120,000 a year</td>\n",
       "      <td>2022-04-05T19:38:17.143Z</td>\n",
       "      <td>https://www.indeed.ca/company/Virtus-Services-...</td>\n",
       "    </tr>\n",
       "  </tbody>\n",
       "</table>\n",
       "</div>"
      ],
      "text/plain": [
       "                    company  \\\n",
       "0  Scrawlr Development Inc.   \n",
       "2       TELUS International   \n",
       "4  Scrawlr Development Inc.   \n",
       "6       LearningBranch Inc.   \n",
       "7  Scrawlr Development Inc.   \n",
       "\n",
       "                                         description                id  \\\n",
       "0  About ScrawlrScrawlr is a company building a s...  7caf9dd0cb72ecff   \n",
       "2  Full Stack Developer (React.js & Node.js)Descr...  b2e0c233222a2f9e   \n",
       "4  About ScrawlrScrawlr is a company building a s...  0f011f6b4930681a   \n",
       "6  Job Title: Senior Machine Learning EngineerSta...  f0350e40e06d39c7   \n",
       "7  About ScrawlrScrawlr is a company building a s...  8109b9b51e80a7aa   \n",
       "\n",
       "       location                               positionName     postedAt  \\\n",
       "0  Montréal, QC  Intermediate Front-End Software Developer  Just posted   \n",
       "2        Canada  Full Stack Developer (React.js & Node.js)  Just posted   \n",
       "4  Montréal, QC        Senior Front-End Software Developer  Just posted   \n",
       "6  Montréal, QC           Senior Machine Learning Engineer  Just posted   \n",
       "7  Montréal, QC          Lead Front-End Software Developer  Just posted   \n",
       "\n",
       "   rating  reviewsCount                     salary                 scrapedAt  \\\n",
       "0     NaN           NaN   $72,000 - $89,000 a year  2022-04-05T19:38:07.461Z   \n",
       "2     NaN           NaN          $55 - $60 an hour  2022-04-05T19:38:12.450Z   \n",
       "4     NaN           NaN  $85,000 - $110,000 a year  2022-04-05T19:38:13.750Z   \n",
       "6     NaN           NaN  $65,000 - $120,000 a year  2022-04-05T19:38:16.469Z   \n",
       "7     NaN           NaN  $87,000 - $120,000 a year  2022-04-05T19:38:17.143Z   \n",
       "\n",
       "                                                 url  \n",
       "0  https://www.indeed.ca/company/Virtus-Services-...  \n",
       "2  https://www.indeed.ca/pagead/clk?mo=r&ad=-6NYl...  \n",
       "4  https://www.indeed.ca/company/Virtus-Services-...  \n",
       "6  https://www.indeed.ca/company/LearningBranch-I...  \n",
       "7  https://www.indeed.ca/company/Virtus-Services-...  "
      ]
     },
     "execution_count": 70,
     "metadata": {},
     "output_type": "execute_result"
    }
   ],
   "source": [
    "def salary_notna(df):\n",
    "    \"\"\"\n",
    "    This function returns a new DataFrame by removing\n",
    "    all jobs with no salary info.\n",
    "    J. Bazarbachian\n",
    "    Input\n",
    "    ---------\n",
    "    df : pandas DataFrame\n",
    "        DataFrame containing scraped job data\n",
    "    Output\n",
    "    ---------\n",
    "    df : pandas DataFrame\n",
    "        New DataFrame with NaN salary value jobs removed\n",
    "    Example\n",
    "    -------\n",
    "    >>> valid_data = salary_notna(joint_data)\n",
    "    >>> print('Current dataset size: %d jobs' % len(valid_data))\n",
    "    Current dataset size: 973 jobs\n",
    "    \"\"\"\n",
    "    return df[df['salary'].notna()]\n",
    "\n",
    "\n",
    "valid_data = salary_notna(joint_data)\n",
    "print('Current dataset size: %d jobs' % len(valid_data))\n",
    "valid_data.head()"
   ]
  },
  {
   "cell_type": "markdown",
   "id": "4bfe82fa",
   "metadata": {},
   "source": [
    "<div style=\"border-bottom: 3px solid black;\"></div>\n",
    "\n",
    "### Task 2.3 &mdash; Remove duplicate job ads\n",
    "\n",
    "Using the *id* column, remove duplicate jobs"
   ]
  },
  {
   "cell_type": "code",
   "execution_count": 71,
   "id": "38ededac",
   "metadata": {},
   "outputs": [
    {
     "data": {
      "text/html": [
       "<div>\n",
       "<style scoped>\n",
       "    .dataframe tbody tr th:only-of-type {\n",
       "        vertical-align: middle;\n",
       "    }\n",
       "\n",
       "    .dataframe tbody tr th {\n",
       "        vertical-align: top;\n",
       "    }\n",
       "\n",
       "    .dataframe thead th {\n",
       "        text-align: right;\n",
       "    }\n",
       "</style>\n",
       "<table border=\"1\" class=\"dataframe\">\n",
       "  <thead>\n",
       "    <tr style=\"text-align: right;\">\n",
       "      <th></th>\n",
       "      <th>company</th>\n",
       "      <th>description</th>\n",
       "      <th>id</th>\n",
       "      <th>location</th>\n",
       "      <th>positionName</th>\n",
       "      <th>postedAt</th>\n",
       "      <th>rating</th>\n",
       "      <th>reviewsCount</th>\n",
       "      <th>salary</th>\n",
       "      <th>scrapedAt</th>\n",
       "      <th>url</th>\n",
       "    </tr>\n",
       "  </thead>\n",
       "  <tbody>\n",
       "    <tr>\n",
       "      <th>0</th>\n",
       "      <td>Scrawlr Development Inc.</td>\n",
       "      <td>About ScrawlrScrawlr is a company building a s...</td>\n",
       "      <td>7caf9dd0cb72ecff</td>\n",
       "      <td>Montréal, QC</td>\n",
       "      <td>Intermediate Front-End Software Developer</td>\n",
       "      <td>Just posted</td>\n",
       "      <td>NaN</td>\n",
       "      <td>NaN</td>\n",
       "      <td>$72,000 - $89,000 a year</td>\n",
       "      <td>2022-04-05T19:38:07.461Z</td>\n",
       "      <td>https://www.indeed.ca/company/Virtus-Services-...</td>\n",
       "    </tr>\n",
       "    <tr>\n",
       "      <th>2</th>\n",
       "      <td>TELUS International</td>\n",
       "      <td>Full Stack Developer (React.js &amp; Node.js)Descr...</td>\n",
       "      <td>b2e0c233222a2f9e</td>\n",
       "      <td>Canada</td>\n",
       "      <td>Full Stack Developer (React.js &amp; Node.js)</td>\n",
       "      <td>Just posted</td>\n",
       "      <td>NaN</td>\n",
       "      <td>NaN</td>\n",
       "      <td>$55 - $60 an hour</td>\n",
       "      <td>2022-04-05T19:38:12.450Z</td>\n",
       "      <td>https://www.indeed.ca/pagead/clk?mo=r&amp;ad=-6NYl...</td>\n",
       "    </tr>\n",
       "    <tr>\n",
       "      <th>4</th>\n",
       "      <td>Scrawlr Development Inc.</td>\n",
       "      <td>About ScrawlrScrawlr is a company building a s...</td>\n",
       "      <td>0f011f6b4930681a</td>\n",
       "      <td>Montréal, QC</td>\n",
       "      <td>Senior Front-End Software Developer</td>\n",
       "      <td>Just posted</td>\n",
       "      <td>NaN</td>\n",
       "      <td>NaN</td>\n",
       "      <td>$85,000 - $110,000 a year</td>\n",
       "      <td>2022-04-05T19:38:13.750Z</td>\n",
       "      <td>https://www.indeed.ca/company/Virtus-Services-...</td>\n",
       "    </tr>\n",
       "    <tr>\n",
       "      <th>6</th>\n",
       "      <td>LearningBranch Inc.</td>\n",
       "      <td>Job Title: Senior Machine Learning EngineerSta...</td>\n",
       "      <td>f0350e40e06d39c7</td>\n",
       "      <td>Montréal, QC</td>\n",
       "      <td>Senior Machine Learning Engineer</td>\n",
       "      <td>Just posted</td>\n",
       "      <td>NaN</td>\n",
       "      <td>NaN</td>\n",
       "      <td>$65,000 - $120,000 a year</td>\n",
       "      <td>2022-04-05T19:38:16.469Z</td>\n",
       "      <td>https://www.indeed.ca/company/LearningBranch-I...</td>\n",
       "    </tr>\n",
       "    <tr>\n",
       "      <th>7</th>\n",
       "      <td>Scrawlr Development Inc.</td>\n",
       "      <td>About ScrawlrScrawlr is a company building a s...</td>\n",
       "      <td>8109b9b51e80a7aa</td>\n",
       "      <td>Montréal, QC</td>\n",
       "      <td>Lead Front-End Software Developer</td>\n",
       "      <td>Just posted</td>\n",
       "      <td>NaN</td>\n",
       "      <td>NaN</td>\n",
       "      <td>$87,000 - $120,000 a year</td>\n",
       "      <td>2022-04-05T19:38:17.143Z</td>\n",
       "      <td>https://www.indeed.ca/company/Virtus-Services-...</td>\n",
       "    </tr>\n",
       "  </tbody>\n",
       "</table>\n",
       "</div>"
      ],
      "text/plain": [
       "                    company  \\\n",
       "0  Scrawlr Development Inc.   \n",
       "2       TELUS International   \n",
       "4  Scrawlr Development Inc.   \n",
       "6       LearningBranch Inc.   \n",
       "7  Scrawlr Development Inc.   \n",
       "\n",
       "                                         description                id  \\\n",
       "0  About ScrawlrScrawlr is a company building a s...  7caf9dd0cb72ecff   \n",
       "2  Full Stack Developer (React.js & Node.js)Descr...  b2e0c233222a2f9e   \n",
       "4  About ScrawlrScrawlr is a company building a s...  0f011f6b4930681a   \n",
       "6  Job Title: Senior Machine Learning EngineerSta...  f0350e40e06d39c7   \n",
       "7  About ScrawlrScrawlr is a company building a s...  8109b9b51e80a7aa   \n",
       "\n",
       "       location                               positionName     postedAt  \\\n",
       "0  Montréal, QC  Intermediate Front-End Software Developer  Just posted   \n",
       "2        Canada  Full Stack Developer (React.js & Node.js)  Just posted   \n",
       "4  Montréal, QC        Senior Front-End Software Developer  Just posted   \n",
       "6  Montréal, QC           Senior Machine Learning Engineer  Just posted   \n",
       "7  Montréal, QC          Lead Front-End Software Developer  Just posted   \n",
       "\n",
       "   rating  reviewsCount                     salary                 scrapedAt  \\\n",
       "0     NaN           NaN   $72,000 - $89,000 a year  2022-04-05T19:38:07.461Z   \n",
       "2     NaN           NaN          $55 - $60 an hour  2022-04-05T19:38:12.450Z   \n",
       "4     NaN           NaN  $85,000 - $110,000 a year  2022-04-05T19:38:13.750Z   \n",
       "6     NaN           NaN  $65,000 - $120,000 a year  2022-04-05T19:38:16.469Z   \n",
       "7     NaN           NaN  $87,000 - $120,000 a year  2022-04-05T19:38:17.143Z   \n",
       "\n",
       "                                                 url  \n",
       "0  https://www.indeed.ca/company/Virtus-Services-...  \n",
       "2  https://www.indeed.ca/pagead/clk?mo=r&ad=-6NYl...  \n",
       "4  https://www.indeed.ca/company/Virtus-Services-...  \n",
       "6  https://www.indeed.ca/company/LearningBranch-I...  \n",
       "7  https://www.indeed.ca/company/Virtus-Services-...  "
      ]
     },
     "execution_count": 71,
     "metadata": {},
     "output_type": "execute_result"
    }
   ],
   "source": [
    "def remove_duplicates(df):\n",
    "    \"\"\"\n",
    "    This function create new DataFrame with no duplicate jobs.\n",
    "    J. Bazarbachian\n",
    "    Input\n",
    "    ---------\n",
    "    df : pandas DataFrame\n",
    "        DataFrame containing scraped job data\n",
    "    Output\n",
    "    ---------\n",
    "    df : pandas DataFrame\n",
    "        New DataFrame with no duplicate jobs\n",
    "    Example\n",
    "    -------\n",
    "    >>> data_no_duplicates = remove_duplicates(valid_data)\n",
    "    >>> print('Current dataset size: %d jobs' % len(data_no_duplicates))\n",
    "    Current dataset size: 835 jobs\n",
    "    \"\"\"\n",
    "    return df.drop_duplicates(subset=\"id\")\n",
    "\n",
    "\n",
    "data_no_duplicates = remove_duplicates(valid_data)\n",
    "print('Current dataset size: %d jobs' % len(data_no_duplicates))\n",
    "data_no_duplicates.head()"
   ]
  },
  {
   "cell_type": "markdown",
   "id": "d3eaef88",
   "metadata": {},
   "source": [
    "<div style=\"border-bottom: 3px solid black;\"></div>\n",
    "\n",
    "### Task 2.4 &mdash; Create a new DataFrame with relevant features\n",
    " \n",
    "The new DataFrame has columns ['company', 'positionName', 'location', 'salary', 'description']"
   ]
  },
  {
   "cell_type": "code",
   "execution_count": 72,
   "id": "c21f6a9a",
   "metadata": {},
   "outputs": [
    {
     "data": {
      "text/html": [
       "<div>\n",
       "<style scoped>\n",
       "    .dataframe tbody tr th:only-of-type {\n",
       "        vertical-align: middle;\n",
       "    }\n",
       "\n",
       "    .dataframe tbody tr th {\n",
       "        vertical-align: top;\n",
       "    }\n",
       "\n",
       "    .dataframe thead th {\n",
       "        text-align: right;\n",
       "    }\n",
       "</style>\n",
       "<table border=\"1\" class=\"dataframe\">\n",
       "  <thead>\n",
       "    <tr style=\"text-align: right;\">\n",
       "      <th></th>\n",
       "      <th>company</th>\n",
       "      <th>positionName</th>\n",
       "      <th>location</th>\n",
       "      <th>salary</th>\n",
       "      <th>description</th>\n",
       "    </tr>\n",
       "  </thead>\n",
       "  <tbody>\n",
       "    <tr>\n",
       "      <th>0</th>\n",
       "      <td>Scrawlr Development Inc.</td>\n",
       "      <td>Intermediate Front-End Software Developer</td>\n",
       "      <td>Montréal, QC</td>\n",
       "      <td>$72,000 - $89,000 a year</td>\n",
       "      <td>About ScrawlrScrawlr is a company building a s...</td>\n",
       "    </tr>\n",
       "    <tr>\n",
       "      <th>1</th>\n",
       "      <td>TELUS International</td>\n",
       "      <td>Full Stack Developer (React.js &amp; Node.js)</td>\n",
       "      <td>Canada</td>\n",
       "      <td>$55 - $60 an hour</td>\n",
       "      <td>Full Stack Developer (React.js &amp; Node.js)Descr...</td>\n",
       "    </tr>\n",
       "    <tr>\n",
       "      <th>2</th>\n",
       "      <td>Scrawlr Development Inc.</td>\n",
       "      <td>Senior Front-End Software Developer</td>\n",
       "      <td>Montréal, QC</td>\n",
       "      <td>$85,000 - $110,000 a year</td>\n",
       "      <td>About ScrawlrScrawlr is a company building a s...</td>\n",
       "    </tr>\n",
       "    <tr>\n",
       "      <th>3</th>\n",
       "      <td>LearningBranch Inc.</td>\n",
       "      <td>Senior Machine Learning Engineer</td>\n",
       "      <td>Montréal, QC</td>\n",
       "      <td>$65,000 - $120,000 a year</td>\n",
       "      <td>Job Title: Senior Machine Learning EngineerSta...</td>\n",
       "    </tr>\n",
       "    <tr>\n",
       "      <th>4</th>\n",
       "      <td>Scrawlr Development Inc.</td>\n",
       "      <td>Lead Front-End Software Developer</td>\n",
       "      <td>Montréal, QC</td>\n",
       "      <td>$87,000 - $120,000 a year</td>\n",
       "      <td>About ScrawlrScrawlr is a company building a s...</td>\n",
       "    </tr>\n",
       "  </tbody>\n",
       "</table>\n",
       "</div>"
      ],
      "text/plain": [
       "                    company                               positionName  \\\n",
       "0  Scrawlr Development Inc.  Intermediate Front-End Software Developer   \n",
       "1       TELUS International  Full Stack Developer (React.js & Node.js)   \n",
       "2  Scrawlr Development Inc.        Senior Front-End Software Developer   \n",
       "3       LearningBranch Inc.           Senior Machine Learning Engineer   \n",
       "4  Scrawlr Development Inc.          Lead Front-End Software Developer   \n",
       "\n",
       "       location                     salary  \\\n",
       "0  Montréal, QC   $72,000 - $89,000 a year   \n",
       "1        Canada          $55 - $60 an hour   \n",
       "2  Montréal, QC  $85,000 - $110,000 a year   \n",
       "3  Montréal, QC  $65,000 - $120,000 a year   \n",
       "4  Montréal, QC  $87,000 - $120,000 a year   \n",
       "\n",
       "                                         description  \n",
       "0  About ScrawlrScrawlr is a company building a s...  \n",
       "1  Full Stack Developer (React.js & Node.js)Descr...  \n",
       "2  About ScrawlrScrawlr is a company building a s...  \n",
       "3  Job Title: Senior Machine Learning EngineerSta...  \n",
       "4  About ScrawlrScrawlr is a company building a s...  "
      ]
     },
     "execution_count": 72,
     "metadata": {},
     "output_type": "execute_result"
    }
   ],
   "source": [
    "def drop_unused_columns(df):\n",
    "    \"\"\"\n",
    "    This function create new DataFrame with selected columns.\n",
    "    J. Bazarbachian\n",
    "    Input\n",
    "    ---------\n",
    "    df : pandas DataFrame\n",
    "        DataFrame containing scraped job data\n",
    "    Output\n",
    "    ---------\n",
    "    df : pandas DataFrame\n",
    "        New DataFrame with columns ['company', 'positionName',\n",
    "        'location', 'salary', 'description']\n",
    "    Example\n",
    "    -------\n",
    "    >>> reshaped_data = drop_unused_columns(data_no_duplicates)\n",
    "    >>> print('Current dataset size: %d jobs' % len(reshaped_data))\n",
    "    Current dataset size: 835 jobs\n",
    "    \"\"\"\n",
    "    return df[['company', 'positionName',\n",
    "               'location', 'salary', 'description']].reset_index(drop=True)\n",
    "\n",
    "\n",
    "reshaped_data = drop_unused_columns(data_no_duplicates)\n",
    "print('Current dataset size: %d jobs' % len(reshaped_data))\n",
    "reshaped_data.head()"
   ]
  },
  {
   "cell_type": "markdown",
   "id": "c44dc330",
   "metadata": {},
   "source": [
    "<div style=\"border-bottom: 3px solid black;\"></div>\n",
    "\n",
    "### Task 2.5 &mdash; Explore data"
   ]
  },
  {
   "cell_type": "markdown",
   "id": "92906a1c",
   "metadata": {},
   "source": [
    "From the 5986 jobs that were originally scraped from Indeed, we now are left with 835. As a result, only 13.9% of job advertisements included any information on expected pay."
   ]
  },
  {
   "cell_type": "code",
   "execution_count": 73,
   "id": "21c64bbe",
   "metadata": {},
   "outputs": [
    {
     "data": {
      "text/plain": [
       "count                          835\n",
       "unique                         503\n",
       "top       Scrawlr Development Inc.\n",
       "freq                            42\n",
       "Name: company, dtype: object"
      ]
     },
     "execution_count": 73,
     "metadata": {},
     "output_type": "execute_result"
    }
   ],
   "source": [
    "reshaped_data['company'].describe()"
   ]
  },
  {
   "cell_type": "code",
   "execution_count": 74,
   "id": "13a9bbad",
   "metadata": {},
   "outputs": [
    {
     "data": {
      "text/plain": [
       "count                      835\n",
       "unique                     632\n",
       "top       Full Stack Developer\n",
       "freq                        13\n",
       "Name: positionName, dtype: object"
      ]
     },
     "execution_count": 74,
     "metadata": {},
     "output_type": "execute_result"
    }
   ],
   "source": [
    "reshaped_data['positionName'].describe()"
   ]
  },
  {
   "cell_type": "code",
   "execution_count": 75,
   "id": "647e3eb0",
   "metadata": {},
   "outputs": [
    {
     "data": {
      "text/plain": [
       "count             835\n",
       "unique             46\n",
       "top       Toronto, ON\n",
       "freq              221\n",
       "Name: location, dtype: object"
      ]
     },
     "execution_count": 75,
     "metadata": {},
     "output_type": "execute_result"
    }
   ],
   "source": [
    "reshaped_data['location'].describe()"
   ]
  },
  {
   "cell_type": "code",
   "execution_count": 76,
   "id": "465fa735",
   "metadata": {},
   "outputs": [
    {
     "data": {
      "text/plain": [
       "count                835\n",
       "unique               455\n",
       "top       $80,000 a year\n",
       "freq                  26\n",
       "Name: salary, dtype: object"
      ]
     },
     "execution_count": 76,
     "metadata": {},
     "output_type": "execute_result"
    }
   ],
   "source": [
    "reshaped_data['salary'].describe()"
   ]
  },
  {
   "cell_type": "code",
   "execution_count": 77,
   "id": "98f8347e",
   "metadata": {},
   "outputs": [
    {
     "data": {
      "text/plain": [
       "0       $72,000 - $89,000 a year\n",
       "1              $55 - $60 an hour\n",
       "2      $85,000 - $110,000 a year\n",
       "3      $65,000 - $120,000 a year\n",
       "4      $87,000 - $120,000 a year\n",
       "5      $85,000 - $145,000 a year\n",
       "6                 $95,000 a year\n",
       "7      $75,000 - $140,000 a year\n",
       "8              $40 - $65 an hour\n",
       "9      $80,973 - $150,558 a year\n",
       "10                $60,000 a year\n",
       "11                $90,000 a year\n",
       "12    $115,000 - $125,000 a year\n",
       "13                $50,000 a year\n",
       "14                $98,900 a year\n",
       "15     $85,000 - $100,000 a year\n",
       "16      $53,291 - $86,609 a year\n",
       "17     $65,000 - $115,000 a year\n",
       "18     $80,000 - $150,000 a year\n",
       "19                $23.59 an hour\n",
       "Name: salary, dtype: object"
      ]
     },
     "execution_count": 77,
     "metadata": {},
     "output_type": "execute_result"
    }
   ],
   "source": [
    "salary = reshaped_data['salary']\n",
    "salary[0:20]"
   ]
  },
  {
   "cell_type": "code",
   "execution_count": 78,
   "id": "6d84993d",
   "metadata": {
    "scrolled": false
   },
   "outputs": [
    {
     "data": {
      "text/plain": [
       "\"About ScrawlrScrawlr is a company building a software platform and series of products dedicated to enabling alternative forms of communication layered on existing internet content, together with delivering superior monetization flexibility and content ownership for content generators. We have recently completed our internal beta and are preparing for our external beta. We are looking forward to bringing on additional like-minded individuals to assist in product launch. The founder, board of directors, and lead investors in Scrawlr have a strong background in a variety of successful, transformational startups, and we are building our platform alongside a number of other startups within a successful ecosystem.Why you should work hereWe are working on a transformational project that we believe will have a global impact, and we expect our team members to work on solving complex, unique technical problems on a daily basis. Front-end team members are given a high degree of product ownership and the latitude to propose and implement approaches that can be divergent from all standard or existing solutions.Scrawlr is committed to maintaining an environment in which all ideas are taken seriously and great ideas are adopted, allowing dedicated employees to effect change and to dictate their progression within the organization.Compensation$85k - 110k per annum plus an options grant commensurate with capacity for contribution to the teamResponsibilitiesBuild front-end components and featuresCollaborating with and provide technical feedback to junior developers and peersContribute to task creation, task breakdown, and distributionImprove our infrastructure and continuously improve our Front-end TeamParticipating in new team member technical on-boardingDesired Skills & ExperienceThree (3) years of experience working on commercial / agency medium-size front-end projects or equivalentTwo (2) years of experience working on Vue.js, or equivalent, framework projectsExcellent understanding of web page performance, debugging, and best practicesStrong knowledge of core Javascript/HTML/CSS.Strong understanding of cross-browser compatibility development and testing conceptsExperience with Vuex and reactive state management conceptsExperience with module bundler systems and related web tooling conceptsExperience working with REST APIsExperience leading small to midsize multi product teams with demonstrated ability to mentor, grow team members as well as provide technical guidance and oversight on implementation directionExcellent communication and interpersonal skillsNice to Have Skills & ExperienceSolid experience with Javascript unit and feature testing concepts and frameworksPWA and Single Page Application project experienceChrome/Firefox extension development experienceExperience with Linux command line, and gitExperience working in start-up environmentsKnowledge of BEM methodology in medium to large scale codebases.GitHub profile with sample projects you would like to showcaseIf you are interested in changing the way the world communicates, and then subsequently evaluates and monetizes content, we would love to speak with you. This position is a unique opportunity for an individual interested in launching a transformational product in a challenging, dynamic work environment.We are looking for exceptional individuals, and from there we can work with all levels of experience. If what we are doing is of interest to you, but you are not sure if you fit into this role, we look forward to engaging to find the right position.Please note: Candidates must be currently authorized to work in CanadaWe are an equal opportunity employer, and all qualified applicants will receive consideration for employment without regard to race, colour, religion, sex, national origin, disability status, protected veteran status, or any other characteristic protected by law.Job Types: Full-time, PermanentSalary: $85,000.00-$110,000.00 per yearApplication question(s):If hired into a fully remote position, do you expect to be available during standard hours in pacific time (pst)? Please answer only 'Yes' or 'No' to this question - we will clarify as required upon reviewing your application.\""
      ]
     },
     "execution_count": 78,
     "metadata": {},
     "output_type": "execute_result"
    }
   ],
   "source": [
    "description = reshaped_data['description']\n",
    "description[2]"
   ]
  },
  {
   "cell_type": "markdown",
   "id": "cd39fc3b",
   "metadata": {},
   "source": [
    "The salary column will be the label values for our Job Prediction models. Looking at the contents of these cells, we can see that salaries are given in different formats. Most are ranges, while some are singular values. Also, not all values are yearly salaries. Some show an hourly wage. \n",
    "\n",
    "Our features on the other hand will be derived from the description column. Looking at an individual job description value, we can see that it's a free text document. Text data will require preprocessing and vectorization in order to be transformed into features. Our next task will then be to clean the values in the feature and label columns. "
   ]
  },
  {
   "cell_type": "markdown",
   "id": "ef67d59d",
   "metadata": {},
   "source": [
    "<div style=\"border-bottom: 3px solid black; margin-bottom:5px\"></div>\n",
    "<div style=\"border-bottom: 3px solid black\"></div>\n",
    "\n",
    "# 3. Feature Engineering: \n",
    "\n",
    "We are now ready to transform our raw data into machine learning model features and classification labels. In this section, we will create new columns from the data that was scraped and cleaned in previous steps. "
   ]
  },
  {
   "cell_type": "code",
   "execution_count": 131,
   "id": "1bba6cb4",
   "metadata": {},
   "outputs": [],
   "source": [
    "# create a copy of the usable dataset to preserve the original data\n",
    "jobs_dataset = reshaped_data.copy(deep=True)"
   ]
  },
  {
   "cell_type": "markdown",
   "id": "1d8da6a8",
   "metadata": {},
   "source": [
    "<div style=\"border-bottom: 3px solid black;\"></div>\n",
    "\n",
    "### Task 3.1 &mdash; Transforming Salary data"
   ]
  },
  {
   "cell_type": "code",
   "execution_count": 132,
   "id": "6dd39a49",
   "metadata": {},
   "outputs": [],
   "source": [
    "def clean_salary(df):\n",
    "    \"\"\"\n",
    "    This function transforms Salary data into usable formats\n",
    "    J. Bazarbachian\n",
    "    Input\n",
    "    ---------\n",
    "    df : pandas DataFrame\n",
    "        DataFrame containing scraped job data\n",
    "    Output\n",
    "    ---------\n",
    "    df : pandas DataFrame\n",
    "        New DataFrame with scraped salary column removed\n",
    "        and new columns added:\n",
    "        [pay_period, min_salary, max_salary, avg_salary]\n",
    "    Example\n",
    "    -------\n",
    "    >>> jobs_dataset = clean_salary(jobs_dataset)\n",
    "    >>> print(jobs_dataset.shape)\n",
    "    (582, 8)\n",
    "    \"\"\"\n",
    "    # First start by removing unwanted characters from the salary values\n",
    "    # remove dollar sign\n",
    "    df['salary'] = df['salary'].str.replace('\\$', '', regex=True)\n",
    "    df['salary'] = df['salary'].str.replace(',', '')  # remove comma\n",
    "    df['salary'] = df['salary'].str.replace('-', '')  # remove dash\n",
    "    # for all values of salary\n",
    "    for i in range(len(df['salary'])):\n",
    "        # Split salary values into tokens\n",
    "        df['salary'][i] = df['salary'][i].split()\n",
    "        for x, n in enumerate(df['salary'][i]):\n",
    "            # remove \"a\" string\n",
    "            if n == 'a':\n",
    "                df['salary'][i].remove(n) #\n",
    "            elif n == 'an':\n",
    "                # remove \"an\" string\n",
    "                df['salary'][i].remove(n)\n",
    "    # create new column called pay_period\n",
    "    df['pay_period'] = np.nan\n",
    "    # fill pay_period with yealy values\n",
    "    for i in range(len(df['salary'])):\n",
    "        if df['salary'][i][-1] == 'year':\n",
    "            df.loc[i,'pay_period'] = 'yearly'\n",
    "            df['salary'][i].pop()\n",
    "    # remove all jobs that don't have yearly pay info\n",
    "    df = df[df['pay_period'].notna()].reset_index(drop=True)\n",
    "    # create new columns\n",
    "    df['min_salary'] = np.nan\n",
    "    df['max_salary'] = np.nan\n",
    "    df['avg_salary'] = np.nan\n",
    "    # fill pay_period with yealy values\n",
    "    for i in range(len(df['salary'])):\n",
    "        if len(df['salary'][i]) == float(1):\n",
    "            df.loc[i, 'avg_salary'] = float(df['salary'][i][0])\n",
    "        else:\n",
    "            df.loc[i, 'min_salary'] = float(df['salary'][i][0])\n",
    "            df.loc[i, 'max_salary'] = float(df['salary'][i][1])\n",
    "            df.loc[i, 'avg_salary'] = (float(df['salary'][i][0]) + float(df['salary'][i][1]))/2\n",
    "    # drop scraped salary column\n",
    "    df.drop('salary', axis=1, inplace=True)\n",
    "    return df"
   ]
  },
  {
   "cell_type": "code",
   "execution_count": 109,
   "id": "5367912c",
   "metadata": {},
   "outputs": [
    {
     "data": {
      "text/html": [
       "<div>\n",
       "<style scoped>\n",
       "    .dataframe tbody tr th:only-of-type {\n",
       "        vertical-align: middle;\n",
       "    }\n",
       "\n",
       "    .dataframe tbody tr th {\n",
       "        vertical-align: top;\n",
       "    }\n",
       "\n",
       "    .dataframe thead th {\n",
       "        text-align: right;\n",
       "    }\n",
       "</style>\n",
       "<table border=\"1\" class=\"dataframe\">\n",
       "  <thead>\n",
       "    <tr style=\"text-align: right;\">\n",
       "      <th></th>\n",
       "      <th>company</th>\n",
       "      <th>positionName</th>\n",
       "      <th>location</th>\n",
       "      <th>description</th>\n",
       "      <th>pay_period</th>\n",
       "      <th>min_salary</th>\n",
       "      <th>max_salary</th>\n",
       "      <th>avg_salary</th>\n",
       "    </tr>\n",
       "  </thead>\n",
       "  <tbody>\n",
       "    <tr>\n",
       "      <th>0</th>\n",
       "      <td>Scrawlr Development Inc.</td>\n",
       "      <td>Intermediate Front-End Software Developer</td>\n",
       "      <td>Montréal, QC</td>\n",
       "      <td>About ScrawlrScrawlr is a company building a s...</td>\n",
       "      <td>yearly</td>\n",
       "      <td>72000.0</td>\n",
       "      <td>89000.0</td>\n",
       "      <td>80500.0</td>\n",
       "    </tr>\n",
       "    <tr>\n",
       "      <th>1</th>\n",
       "      <td>Scrawlr Development Inc.</td>\n",
       "      <td>Senior Front-End Software Developer</td>\n",
       "      <td>Montréal, QC</td>\n",
       "      <td>About ScrawlrScrawlr is a company building a s...</td>\n",
       "      <td>yearly</td>\n",
       "      <td>85000.0</td>\n",
       "      <td>110000.0</td>\n",
       "      <td>97500.0</td>\n",
       "    </tr>\n",
       "    <tr>\n",
       "      <th>2</th>\n",
       "      <td>LearningBranch Inc.</td>\n",
       "      <td>Senior Machine Learning Engineer</td>\n",
       "      <td>Montréal, QC</td>\n",
       "      <td>Job Title: Senior Machine Learning EngineerSta...</td>\n",
       "      <td>yearly</td>\n",
       "      <td>65000.0</td>\n",
       "      <td>120000.0</td>\n",
       "      <td>92500.0</td>\n",
       "    </tr>\n",
       "    <tr>\n",
       "      <th>3</th>\n",
       "      <td>Scrawlr Development Inc.</td>\n",
       "      <td>Lead Front-End Software Developer</td>\n",
       "      <td>Montréal, QC</td>\n",
       "      <td>About ScrawlrScrawlr is a company building a s...</td>\n",
       "      <td>yearly</td>\n",
       "      <td>87000.0</td>\n",
       "      <td>120000.0</td>\n",
       "      <td>103500.0</td>\n",
       "    </tr>\n",
       "    <tr>\n",
       "      <th>4</th>\n",
       "      <td>Faimdata</td>\n",
       "      <td>artificial intelligence (ai) programmer</td>\n",
       "      <td>Montréal, QC</td>\n",
       "      <td>Computer Science\\nElectrical and Electronic En...</td>\n",
       "      <td>yearly</td>\n",
       "      <td>85000.0</td>\n",
       "      <td>145000.0</td>\n",
       "      <td>115000.0</td>\n",
       "    </tr>\n",
       "    <tr>\n",
       "      <th>...</th>\n",
       "      <td>...</td>\n",
       "      <td>...</td>\n",
       "      <td>...</td>\n",
       "      <td>...</td>\n",
       "      <td>...</td>\n",
       "      <td>...</td>\n",
       "      <td>...</td>\n",
       "      <td>...</td>\n",
       "    </tr>\n",
       "    <tr>\n",
       "      <th>577</th>\n",
       "      <td>Aarcomm Systems</td>\n",
       "      <td>Electronic Controls Design Engineer</td>\n",
       "      <td>Coquitlam, BC</td>\n",
       "      <td>Aarcomm Systems is an electronics design and m...</td>\n",
       "      <td>yearly</td>\n",
       "      <td>NaN</td>\n",
       "      <td>NaN</td>\n",
       "      <td>80000.0</td>\n",
       "    </tr>\n",
       "    <tr>\n",
       "      <th>578</th>\n",
       "      <td>Park Place Seniors Living</td>\n",
       "      <td>Network Administrator</td>\n",
       "      <td>Vancouver, BC</td>\n",
       "      <td>Job Title: Network AdministratorDivision: Info...</td>\n",
       "      <td>yearly</td>\n",
       "      <td>65000.0</td>\n",
       "      <td>85000.0</td>\n",
       "      <td>75000.0</td>\n",
       "    </tr>\n",
       "    <tr>\n",
       "      <th>579</th>\n",
       "      <td>Johnston Davidson Architecture</td>\n",
       "      <td>Intern Architect / Architectural Technologist</td>\n",
       "      <td>Vancouver, BC</td>\n",
       "      <td>If you are interested in working as part of a ...</td>\n",
       "      <td>yearly</td>\n",
       "      <td>48000.0</td>\n",
       "      <td>57000.0</td>\n",
       "      <td>52500.0</td>\n",
       "    </tr>\n",
       "    <tr>\n",
       "      <th>580</th>\n",
       "      <td>MTU Maintenance Canada</td>\n",
       "      <td>Programmer Analyst</td>\n",
       "      <td>Delta, BC</td>\n",
       "      <td>YOUR FUTURE AT MTU STARTS RIGHT HERE!MTU Maint...</td>\n",
       "      <td>yearly</td>\n",
       "      <td>NaN</td>\n",
       "      <td>NaN</td>\n",
       "      <td>80000.0</td>\n",
       "    </tr>\n",
       "    <tr>\n",
       "      <th>581</th>\n",
       "      <td>Skythinking Technology Co.Ltd</td>\n",
       "      <td>Senior Java Developer</td>\n",
       "      <td>Vancouver, BC</td>\n",
       "      <td>Skythinking Technology is a local software ser...</td>\n",
       "      <td>yearly</td>\n",
       "      <td>70000.0</td>\n",
       "      <td>100000.0</td>\n",
       "      <td>85000.0</td>\n",
       "    </tr>\n",
       "  </tbody>\n",
       "</table>\n",
       "<p>582 rows × 8 columns</p>\n",
       "</div>"
      ],
      "text/plain": [
       "                            company  \\\n",
       "0          Scrawlr Development Inc.   \n",
       "1          Scrawlr Development Inc.   \n",
       "2               LearningBranch Inc.   \n",
       "3          Scrawlr Development Inc.   \n",
       "4                          Faimdata   \n",
       "..                              ...   \n",
       "577                 Aarcomm Systems   \n",
       "578       Park Place Seniors Living   \n",
       "579  Johnston Davidson Architecture   \n",
       "580          MTU Maintenance Canada   \n",
       "581   Skythinking Technology Co.Ltd   \n",
       "\n",
       "                                      positionName       location  \\\n",
       "0        Intermediate Front-End Software Developer   Montréal, QC   \n",
       "1              Senior Front-End Software Developer   Montréal, QC   \n",
       "2                 Senior Machine Learning Engineer   Montréal, QC   \n",
       "3                Lead Front-End Software Developer   Montréal, QC   \n",
       "4          artificial intelligence (ai) programmer   Montréal, QC   \n",
       "..                                             ...            ...   \n",
       "577            Electronic Controls Design Engineer  Coquitlam, BC   \n",
       "578                          Network Administrator  Vancouver, BC   \n",
       "579  Intern Architect / Architectural Technologist  Vancouver, BC   \n",
       "580                             Programmer Analyst      Delta, BC   \n",
       "581                          Senior Java Developer  Vancouver, BC   \n",
       "\n",
       "                                           description pay_period  min_salary  \\\n",
       "0    About ScrawlrScrawlr is a company building a s...     yearly     72000.0   \n",
       "1    About ScrawlrScrawlr is a company building a s...     yearly     85000.0   \n",
       "2    Job Title: Senior Machine Learning EngineerSta...     yearly     65000.0   \n",
       "3    About ScrawlrScrawlr is a company building a s...     yearly     87000.0   \n",
       "4    Computer Science\\nElectrical and Electronic En...     yearly     85000.0   \n",
       "..                                                 ...        ...         ...   \n",
       "577  Aarcomm Systems is an electronics design and m...     yearly         NaN   \n",
       "578  Job Title: Network AdministratorDivision: Info...     yearly     65000.0   \n",
       "579  If you are interested in working as part of a ...     yearly     48000.0   \n",
       "580  YOUR FUTURE AT MTU STARTS RIGHT HERE!MTU Maint...     yearly         NaN   \n",
       "581  Skythinking Technology is a local software ser...     yearly     70000.0   \n",
       "\n",
       "     max_salary  avg_salary  \n",
       "0       89000.0     80500.0  \n",
       "1      110000.0     97500.0  \n",
       "2      120000.0     92500.0  \n",
       "3      120000.0    103500.0  \n",
       "4      145000.0    115000.0  \n",
       "..          ...         ...  \n",
       "577         NaN     80000.0  \n",
       "578     85000.0     75000.0  \n",
       "579     57000.0     52500.0  \n",
       "580         NaN     80000.0  \n",
       "581    100000.0     85000.0  \n",
       "\n",
       "[582 rows x 8 columns]"
      ]
     },
     "execution_count": 109,
     "metadata": {},
     "output_type": "execute_result"
    }
   ],
   "source": [
    "jobs_dataset = clean_salary(jobs_dataset)\n",
    "print(jobs_dataset.shape)\n",
    "jobs_dataset"
   ]
  },
  {
   "cell_type": "code",
   "execution_count": 82,
   "id": "17327d63",
   "metadata": {},
   "outputs": [
    {
     "data": {
      "text/plain": [
       "count       582.000000\n",
       "mean      92543.753436\n",
       "std       27863.519937\n",
       "min       33500.000000\n",
       "25%       75000.000000\n",
       "50%       88940.250000\n",
       "75%      105000.000000\n",
       "max      200000.000000\n",
       "Name: avg_salary, dtype: float64"
      ]
     },
     "execution_count": 82,
     "metadata": {},
     "output_type": "execute_result"
    }
   ],
   "source": [
    "# inspect avg_salary column\n",
    "jobs_dataset.avg_salary.describe()"
   ]
  },
  {
   "cell_type": "code",
   "execution_count": 83,
   "id": "3d188023",
   "metadata": {},
   "outputs": [],
   "source": [
    "def remove_outliers(df):\n",
    "    \"\"\"\n",
    "    This function removes outliers from Salary data using Inter-Quartile Range\n",
    "    J. Bazarbachian\n",
    "    Input\n",
    "    ---------\n",
    "    df : pandas DataFrame\n",
    "        DataFrame containing scraped job data\n",
    "    Output\n",
    "    ---------\n",
    "    df : pandas DataFrame\n",
    "        New DataFrame with salary outliers removed\n",
    "    Example\n",
    "    -------\n",
    "    >>> jobs_dataset = remove_outliers(jobs_dataset)\n",
    "    >>> print(jobs_dataset.shape)\n",
    "    (553, 8)\n",
    "    \"\"\"\n",
    "    q1 = df[\"avg_salary\"].quantile(0.25)\n",
    "    q3 = df[\"avg_salary\"].quantile(0.75)\n",
    "    iqr = q3 - q1\n",
    "    upper_limit = q3 + 1.5 * iqr\n",
    "    lower_limit = q1 - 1.5 * iqr\n",
    "    return df[(df[\"avg_salary\"] < upper_limit)\n",
    "              & (df[\"avg_salary\"] > lower_limit)]"
   ]
  },
  {
   "cell_type": "code",
   "execution_count": 84,
   "id": "e9a855e4",
   "metadata": {},
   "outputs": [],
   "source": [
    "new_jobs_dataset = remove_outliers(jobs_dataset)\n",
    "print(new_jobs_dataset.shape)"
   ]
  },
  {
   "cell_type": "code",
   "execution_count": 85,
   "id": "4bac0d6a",
   "metadata": {},
   "outputs": [],
   "source": [
    "def remove_outliers_plot(df, new_df):\n",
    "    \"\"\"\n",
    "    This function plots salary distributions before\n",
    "    and after removing outliers using IQR\n",
    "    J. Bazarbachian\n",
    "    Input\n",
    "    ---------\n",
    "    df : pandas DataFrame\n",
    "        DataFrame before removing salary outliers\n",
    "    new_df : pandas DataFrame\n",
    "        DataFrame after removing salary outliers\n",
    "    Output\n",
    "    ---------\n",
    "    Histplot and Boxplot for df and new_df\n",
    "    Example\n",
    "    -------\n",
    "    >>> remove_outliers_plot(jobs_dataset, new_jobs_dataset)\n",
    "    \"\"\"\n",
    "    sns.set_theme(style=\"whitegrid\")\n",
    "    plt.figure(figsize=(16, 8))\n",
    "    plt.subplot(2, 2, 1)\n",
    "    sns.histplot(df[\"avg_salary\"])\n",
    "    plt.subplot(2, 2, 2)\n",
    "    sns.boxplot(data=df[\"avg_salary\"])\n",
    "    plt.subplot(2, 2, 3)\n",
    "    sns.histplot(new_df[\"avg_salary\"])\n",
    "    plt.subplot(2, 2, 4)\n",
    "    sns.boxplot(data=new_df[\"avg_salary\"])\n",
    "    plt.show()"
   ]
  },
  {
   "cell_type": "code",
   "execution_count": 86,
   "id": "fb34b3a1",
   "metadata": {},
   "outputs": [
    {
     "data": {
      "image/png": "[encoded data removed]",
      "text/plain": [
       "<Figure size 1152x576 with 4 Axes>"
      ]
     },
     "metadata": {},
     "output_type": "display_data"
    }
   ],
   "source": [
    "remove_outliers_plot(jobs_dataset, new_jobs_dataset)"
   ]
  },
  {
   "cell_type": "code",
   "execution_count": 111,
   "id": "a105bf2b",
   "metadata": {},
   "outputs": [],
   "source": [
    "# model salary bins for classification labels\n",
    "def model_bins(bins, df):\n",
    "    \"\"\"\n",
    "    This function plots data value counts for\n",
    "    different numbers of label classes\n",
    "    J. Bazarbachian\n",
    "    Input\n",
    "    ---------\n",
    "    df : pandas DataFrame\n",
    "        DataFrame of jobs\n",
    "    bins : int\n",
    "        Number of bins\n",
    "    Output\n",
    "    ---------\n",
    "    Bar charts for [2, bins) label classes\n",
    "    Example\n",
    "    -------\n",
    "    >>> model_bins(8, new_jobs_dataset)\n",
    "    \"\"\"\n",
    "    for i in range(2, bins):\n",
    "        labels = pd.qcut(df['avg_salary'], q=i)\n",
    "        counts = labels.value_counts()\n",
    "        plt.figure()\n",
    "        counts.plot(kind='bar', grid=True, figsize=(8, 5))"
   ]
  },
  {
   "cell_type": "code",
   "execution_count": 134,
   "id": "3d433b9f",
   "metadata": {
    "scrolled": false
   },
   "outputs": [
    {
     "data": {
      "image/png": "[encoded data removed]",
      "text/plain": [
       "<Figure size 576x360 with 1 Axes>"
      ]
     },
     "metadata": {},
     "output_type": "display_data"
    },
    {
     "data": {
      "image/png": "[encoded data removed]",
      "text/plain": [
       "<Figure size 576x360 with 1 Axes>"
      ]
     },
     "metadata": {},
     "output_type": "display_data"
    },
    {
     "data": {
      "image/png": "[encoded data removed]",
      "text/plain": [
       "<Figure size 576x360 with 1 Axes>"
      ]
     },
     "metadata": {},
     "output_type": "display_data"
    },
    {
     "data": {
      "image/png": "[encoded data removed]",
      "text/plain": [
       "<Figure size 576x360 with 1 Axes>"
      ]
     },
     "metadata": {},
     "output_type": "display_data"
    },
    {
     "data": {
      "image/png": "[encoded data removed]",
      "text/plain": [
       "<Figure size 576x360 with 1 Axes>"
      ]
     },
     "metadata": {},
     "output_type": "display_data"
    },
    {
     "data": {
      "image/png": "[encoded data removed]",
      "text/plain": [
       "<Figure size 576x360 with 1 Axes>"
      ]
     },
     "metadata": {},
     "output_type": "display_data"
    }
   ],
   "source": [
    "model_bins(8, new_jobs_dataset)"
   ]
  },
  {
   "cell_type": "markdown",
   "id": "e3f82052",
   "metadata": {},
   "source": [
    "Looking at the bar plots of different numbers of label classes, we can observe that with the data that I've collected, the most balanced number of classes is 2. If I use a larger number of targets with this dataset, I would have a disproportionate number of observations in each class. If I were to use imbalanced label classes in my machine learning models, accuracy would no longer be a very informative performance metric. In addition to having to change performance measures, I would also need to further pre-process the data in order to handle imbalanced classes. For these reasons, we will procede with building binary classification models."
   ]
  },
  {
   "cell_type": "code",
   "execution_count": 113,
   "id": "035ac058",
   "metadata": {},
   "outputs": [],
   "source": [
    "pd.options.mode.chained_assignment = None\n",
    "\n",
    "\n",
    "def salary_labels(df):\n",
    "    \"\"\"\n",
    "    This function create 2 salary bins for classification labels\n",
    "    J. Bazarbachian\n",
    "    Input\n",
    "    ---------\n",
    "    df : pandas DataFrame\n",
    "        DataFrame of jobs\n",
    "    Output\n",
    "    ---------\n",
    "    df : pandas DataFrame with new column 'salary_labels'\n",
    "        DataFrame of jobs\n",
    "    Example\n",
    "    -------\n",
    "    >>> new_jobs_dataset= salary_labels(new_jobs_dataset)\n",
    "    >>> print(new_jobs_dataset.shape)\n",
    "    (553, 9)\n",
    "    \"\"\"\n",
    "    df['salary_labels'] = pd.qcut(df['avg_salary'], q=2)\n",
    "    return df"
   ]
  },
  {
   "cell_type": "code",
   "execution_count": 114,
   "id": "4fe4e7b8",
   "metadata": {},
   "outputs": [],
   "source": [
    "new_jobs_dataset = salary_labels(new_jobs_dataset)\n",
    "print(new_jobs_dataset.shape)"
   ]
  },
  {
   "cell_type": "code",
   "execution_count": 115,
   "id": "97e7346b",
   "metadata": {},
   "outputs": [
    {
     "data": {
      "text/plain": [
       "[(33499.999, 86500.0], (86500.0, 147500.0]]\n",
       "Categories (2, interval[float64]): [(33499.999, 86500.0] < (86500.0, 147500.0]]"
      ]
     },
     "execution_count": 115,
     "metadata": {},
     "output_type": "execute_result"
    }
   ],
   "source": [
    "new_jobs_dataset.salary_labels.unique()"
   ]
  },
  {
   "cell_type": "code",
   "execution_count": 116,
   "id": "5d7e3aae",
   "metadata": {
    "scrolled": true
   },
   "outputs": [
    {
     "data": {
      "text/plain": [
       "(33499.999, 86500.0]    277\n",
       "(86500.0, 147500.0]     276\n",
       "Name: salary_labels, dtype: int64"
      ]
     },
     "execution_count": 116,
     "metadata": {},
     "output_type": "execute_result"
    }
   ],
   "source": [
    "new_jobs_dataset['salary_labels'].value_counts()"
   ]
  },
  {
   "cell_type": "markdown",
   "id": "5cfd0617",
   "metadata": {},
   "source": [
    "<div style=\"border-bottom: 3px solid black;\"></div>\n",
    "\n",
    "### Task 3.2 &mdash; Transforming Job Description data\n",
    "\n",
    "Before we can vectorize the text data in the job description column, we must first preprocess it by eliminating punctuation and special characters, removing stop words, and applying lemmatization. \n",
    "\n",
    "### Please Note: The contents of this next cell are taken from  [NLP Tutorial for Text Classification in Python](https://medium.com/analytics-vidhya/nlp-tutorial-for-text-classification-in-python-8f19cd17b49e)"
   ]
  },
  {
   "cell_type": "code",
   "execution_count": 123,
   "id": "4ca7b69a",
   "metadata": {},
   "outputs": [
    {
     "data": {
      "text/html": [
       "<div>\n",
       "<style scoped>\n",
       "    .dataframe tbody tr th:only-of-type {\n",
       "        vertical-align: middle;\n",
       "    }\n",
       "\n",
       "    .dataframe tbody tr th {\n",
       "        vertical-align: top;\n",
       "    }\n",
       "\n",
       "    .dataframe thead th {\n",
       "        text-align: right;\n",
       "    }\n",
       "</style>\n",
       "<table border=\"1\" class=\"dataframe\">\n",
       "  <thead>\n",
       "    <tr style=\"text-align: right;\">\n",
       "      <th></th>\n",
       "      <th>company</th>\n",
       "      <th>positionName</th>\n",
       "      <th>location</th>\n",
       "      <th>description</th>\n",
       "      <th>pay_period</th>\n",
       "      <th>min_salary</th>\n",
       "      <th>max_salary</th>\n",
       "      <th>avg_salary</th>\n",
       "      <th>salary_labels</th>\n",
       "      <th>clean_description</th>\n",
       "    </tr>\n",
       "  </thead>\n",
       "  <tbody>\n",
       "    <tr>\n",
       "      <th>0</th>\n",
       "      <td>Scrawlr Development Inc.</td>\n",
       "      <td>Intermediate Front-End Software Developer</td>\n",
       "      <td>Montréal, QC</td>\n",
       "      <td>About ScrawlrScrawlr is a company building a s...</td>\n",
       "      <td>yearly</td>\n",
       "      <td>72000.0</td>\n",
       "      <td>89000.0</td>\n",
       "      <td>80500.0</td>\n",
       "      <td>(33499.999, 86500.0]</td>\n",
       "      <td>scrawlrscrawlr company building software platf...</td>\n",
       "    </tr>\n",
       "    <tr>\n",
       "      <th>1</th>\n",
       "      <td>Scrawlr Development Inc.</td>\n",
       "      <td>Senior Front-End Software Developer</td>\n",
       "      <td>Montréal, QC</td>\n",
       "      <td>About ScrawlrScrawlr is a company building a s...</td>\n",
       "      <td>yearly</td>\n",
       "      <td>85000.0</td>\n",
       "      <td>110000.0</td>\n",
       "      <td>97500.0</td>\n",
       "      <td>(86500.0, 147500.0]</td>\n",
       "      <td>scrawlrscrawlr company building software platf...</td>\n",
       "    </tr>\n",
       "    <tr>\n",
       "      <th>2</th>\n",
       "      <td>LearningBranch Inc.</td>\n",
       "      <td>Senior Machine Learning Engineer</td>\n",
       "      <td>Montréal, QC</td>\n",
       "      <td>Job Title: Senior Machine Learning EngineerSta...</td>\n",
       "      <td>yearly</td>\n",
       "      <td>65000.0</td>\n",
       "      <td>120000.0</td>\n",
       "      <td>92500.0</td>\n",
       "      <td>(86500.0, 147500.0]</td>\n",
       "      <td>job title senior machine learn engineerstart d...</td>\n",
       "    </tr>\n",
       "    <tr>\n",
       "      <th>3</th>\n",
       "      <td>Scrawlr Development Inc.</td>\n",
       "      <td>Lead Front-End Software Developer</td>\n",
       "      <td>Montréal, QC</td>\n",
       "      <td>About ScrawlrScrawlr is a company building a s...</td>\n",
       "      <td>yearly</td>\n",
       "      <td>87000.0</td>\n",
       "      <td>120000.0</td>\n",
       "      <td>103500.0</td>\n",
       "      <td>(86500.0, 147500.0]</td>\n",
       "      <td>scrawlrscrawlr company building software platf...</td>\n",
       "    </tr>\n",
       "    <tr>\n",
       "      <th>4</th>\n",
       "      <td>Faimdata</td>\n",
       "      <td>artificial intelligence (ai) programmer</td>\n",
       "      <td>Montréal, QC</td>\n",
       "      <td>Computer Science\\nElectrical and Electronic En...</td>\n",
       "      <td>yearly</td>\n",
       "      <td>85000.0</td>\n",
       "      <td>145000.0</td>\n",
       "      <td>115000.0</td>\n",
       "      <td>(86500.0, 147500.0]</td>\n",
       "      <td>computer science electrical electronic enginee...</td>\n",
       "    </tr>\n",
       "    <tr>\n",
       "      <th>...</th>\n",
       "      <td>...</td>\n",
       "      <td>...</td>\n",
       "      <td>...</td>\n",
       "      <td>...</td>\n",
       "      <td>...</td>\n",
       "      <td>...</td>\n",
       "      <td>...</td>\n",
       "      <td>...</td>\n",
       "      <td>...</td>\n",
       "      <td>...</td>\n",
       "    </tr>\n",
       "    <tr>\n",
       "      <th>577</th>\n",
       "      <td>Aarcomm Systems</td>\n",
       "      <td>Electronic Controls Design Engineer</td>\n",
       "      <td>Coquitlam, BC</td>\n",
       "      <td>Aarcomm Systems is an electronics design and m...</td>\n",
       "      <td>yearly</td>\n",
       "      <td>NaN</td>\n",
       "      <td>NaN</td>\n",
       "      <td>80000.0</td>\n",
       "      <td>(33499.999, 86500.0]</td>\n",
       "      <td>aarcomm system electronics design manufacturin...</td>\n",
       "    </tr>\n",
       "    <tr>\n",
       "      <th>578</th>\n",
       "      <td>Park Place Seniors Living</td>\n",
       "      <td>Network Administrator</td>\n",
       "      <td>Vancouver, BC</td>\n",
       "      <td>Job Title: Network AdministratorDivision: Info...</td>\n",
       "      <td>yearly</td>\n",
       "      <td>65000.0</td>\n",
       "      <td>85000.0</td>\n",
       "      <td>75000.0</td>\n",
       "      <td>(33499.999, 86500.0]</td>\n",
       "      <td>job title network administratordivision inform...</td>\n",
       "    </tr>\n",
       "    <tr>\n",
       "      <th>579</th>\n",
       "      <td>Johnston Davidson Architecture</td>\n",
       "      <td>Intern Architect / Architectural Technologist</td>\n",
       "      <td>Vancouver, BC</td>\n",
       "      <td>If you are interested in working as part of a ...</td>\n",
       "      <td>yearly</td>\n",
       "      <td>48000.0</td>\n",
       "      <td>57000.0</td>\n",
       "      <td>52500.0</td>\n",
       "      <td>(33499.999, 86500.0]</td>\n",
       "      <td>interested work part project team gain valuabl...</td>\n",
       "    </tr>\n",
       "    <tr>\n",
       "      <th>580</th>\n",
       "      <td>MTU Maintenance Canada</td>\n",
       "      <td>Programmer Analyst</td>\n",
       "      <td>Delta, BC</td>\n",
       "      <td>YOUR FUTURE AT MTU STARTS RIGHT HERE!MTU Maint...</td>\n",
       "      <td>yearly</td>\n",
       "      <td>NaN</td>\n",
       "      <td>NaN</td>\n",
       "      <td>80000.0</td>\n",
       "      <td>(33499.999, 86500.0]</td>\n",
       "      <td>future mtu start right mtu maintenance canada ...</td>\n",
       "    </tr>\n",
       "    <tr>\n",
       "      <th>581</th>\n",
       "      <td>Skythinking Technology Co.Ltd</td>\n",
       "      <td>Senior Java Developer</td>\n",
       "      <td>Vancouver, BC</td>\n",
       "      <td>Skythinking Technology is a local software ser...</td>\n",
       "      <td>yearly</td>\n",
       "      <td>70000.0</td>\n",
       "      <td>100000.0</td>\n",
       "      <td>85000.0</td>\n",
       "      <td>(33499.999, 86500.0]</td>\n",
       "      <td>skythinking technology local software service ...</td>\n",
       "    </tr>\n",
       "  </tbody>\n",
       "</table>\n",
       "<p>553 rows × 10 columns</p>\n",
       "</div>"
      ],
      "text/plain": [
       "                            company  \\\n",
       "0          Scrawlr Development Inc.   \n",
       "1          Scrawlr Development Inc.   \n",
       "2               LearningBranch Inc.   \n",
       "3          Scrawlr Development Inc.   \n",
       "4                          Faimdata   \n",
       "..                              ...   \n",
       "577                 Aarcomm Systems   \n",
       "578       Park Place Seniors Living   \n",
       "579  Johnston Davidson Architecture   \n",
       "580          MTU Maintenance Canada   \n",
       "581   Skythinking Technology Co.Ltd   \n",
       "\n",
       "                                      positionName       location  \\\n",
       "0        Intermediate Front-End Software Developer   Montréal, QC   \n",
       "1              Senior Front-End Software Developer   Montréal, QC   \n",
       "2                 Senior Machine Learning Engineer   Montréal, QC   \n",
       "3                Lead Front-End Software Developer   Montréal, QC   \n",
       "4          artificial intelligence (ai) programmer   Montréal, QC   \n",
       "..                                             ...            ...   \n",
       "577            Electronic Controls Design Engineer  Coquitlam, BC   \n",
       "578                          Network Administrator  Vancouver, BC   \n",
       "579  Intern Architect / Architectural Technologist  Vancouver, BC   \n",
       "580                             Programmer Analyst      Delta, BC   \n",
       "581                          Senior Java Developer  Vancouver, BC   \n",
       "\n",
       "                                           description pay_period  min_salary  \\\n",
       "0    About ScrawlrScrawlr is a company building a s...     yearly     72000.0   \n",
       "1    About ScrawlrScrawlr is a company building a s...     yearly     85000.0   \n",
       "2    Job Title: Senior Machine Learning EngineerSta...     yearly     65000.0   \n",
       "3    About ScrawlrScrawlr is a company building a s...     yearly     87000.0   \n",
       "4    Computer Science\\nElectrical and Electronic En...     yearly     85000.0   \n",
       "..                                                 ...        ...         ...   \n",
       "577  Aarcomm Systems is an electronics design and m...     yearly         NaN   \n",
       "578  Job Title: Network AdministratorDivision: Info...     yearly     65000.0   \n",
       "579  If you are interested in working as part of a ...     yearly     48000.0   \n",
       "580  YOUR FUTURE AT MTU STARTS RIGHT HERE!MTU Maint...     yearly         NaN   \n",
       "581  Skythinking Technology is a local software ser...     yearly     70000.0   \n",
       "\n",
       "     max_salary  avg_salary         salary_labels  \\\n",
       "0       89000.0     80500.0  (33499.999, 86500.0]   \n",
       "1      110000.0     97500.0   (86500.0, 147500.0]   \n",
       "2      120000.0     92500.0   (86500.0, 147500.0]   \n",
       "3      120000.0    103500.0   (86500.0, 147500.0]   \n",
       "4      145000.0    115000.0   (86500.0, 147500.0]   \n",
       "..          ...         ...                   ...   \n",
       "577         NaN     80000.0  (33499.999, 86500.0]   \n",
       "578     85000.0     75000.0  (33499.999, 86500.0]   \n",
       "579     57000.0     52500.0  (33499.999, 86500.0]   \n",
       "580         NaN     80000.0  (33499.999, 86500.0]   \n",
       "581    100000.0     85000.0  (33499.999, 86500.0]   \n",
       "\n",
       "                                     clean_description  \n",
       "0    scrawlrscrawlr company building software platf...  \n",
       "1    scrawlrscrawlr company building software platf...  \n",
       "2    job title senior machine learn engineerstart d...  \n",
       "3    scrawlrscrawlr company building software platf...  \n",
       "4    computer science electrical electronic enginee...  \n",
       "..                                                 ...  \n",
       "577  aarcomm system electronics design manufacturin...  \n",
       "578  job title network administratordivision inform...  \n",
       "579  interested work part project team gain valuabl...  \n",
       "580  future mtu start right mtu maintenance canada ...  \n",
       "581  skythinking technology local software service ...  \n",
       "\n",
       "[553 rows x 10 columns]"
      ]
     },
     "execution_count": 123,
     "metadata": {},
     "output_type": "execute_result"
    }
   ],
   "source": [
    "# for text pre-processing\n",
    "import re\n",
    "import string\n",
    "import nltk\n",
    "from nltk.tokenize import word_tokenize\n",
    "from nltk.corpus import stopwords\n",
    "from nltk.tokenize import word_tokenize\n",
    "from nltk.stem import SnowballStemmer\n",
    "from nltk.corpus import wordnet\n",
    "from nltk.stem import WordNetLemmatizer\n",
    "\n",
    "\n",
    "def preprocess(text):\n",
    "    \"\"\"\n",
    "    This function converts to lowercase, strips and removes punctuations\n",
    "    V. Rani (https://medium.com/analytics-vidhya/nlp-tutorial-for-text-\n",
    "                                    classification-in-python-8f19cd17b49e)\n",
    "    Input\n",
    "    ---------\n",
    "    text : String\n",
    "        Raw text\n",
    "    Output\n",
    "    ---------\n",
    "    text : String\n",
    "        Text that contain lowercase tokens without punctuations\n",
    "    Example\n",
    "    -------\n",
    "    >>> text = preprocess('Machine LEARNING is gr8 fun!!')\n",
    "    >>> text\n",
    "    'machine learning is gr fun'\n",
    "    \"\"\"\n",
    "    text = text.lower() \n",
    "    text=text.strip()  \n",
    "    text=re.compile('<.*?>').sub('', text) \n",
    "    text = re.compile('[%s]' % re.escape(string.punctuation)).sub(' ', text)  \n",
    "    text = re.sub('\\s+', ' ', text)  \n",
    "    text = re.sub(r'\\[[0-9]*\\]',' ',text) \n",
    "    text=re.sub(r'[^\\w\\s]', '', str(text).lower().strip())\n",
    "    text = re.sub(r'\\d',' ',text) \n",
    "    text = re.sub(r'\\s+',' ',text) \n",
    "    return text\n",
    "\n",
    "# STOPWORD REMOVAL\n",
    "def stopword(string):\n",
    "    \"\"\"\n",
    "    This function removes stop words\n",
    "    V. Rani (https://medium.com/analytics-vidhya/nlp-tutorial-for-text-\n",
    "                                    classification-in-python-8f19cd17b49e)\n",
    "    Input\n",
    "    ---------\n",
    "    string: String\n",
    "        Raw text\n",
    "    Output\n",
    "    ---------\n",
    "    text : String\n",
    "        Text without english and french stop words\n",
    "    Example\n",
    "    -------\n",
    "    >>> text = stopword('you and me toi et moi we learn machine learning')\n",
    "    >>> text\n",
    "    'learn machine learning'\n",
    "    \"\"\"\n",
    "    sw_list = stopwords.words('english') + stopwords.words('french')\n",
    "    a= [i for i in string.split() if i not in sw_list]\n",
    "    return ' '.join(a)\n",
    "\n",
    "# LEMMATIZATION\n",
    "# Initialize the lemmatizer\n",
    "wl = WordNetLemmatizer()\n",
    "def get_wordnet_pos(tag):\n",
    "    \"\"\"\n",
    "    This is a helper function to map NTLK position tags\n",
    "    V. Rani (https://medium.com/analytics-vidhya/nlp-tutorial-for-text\n",
    "                                    -classification-in-python-8f19cd17b49e)\n",
    "    \"\"\"\n",
    "    if tag.startswith('J'):\n",
    "        return wordnet.ADJ\n",
    "    elif tag.startswith('V'):\n",
    "        return wordnet.VERB\n",
    "    elif tag.startswith('N'):\n",
    "        return wordnet.NOUN\n",
    "    elif tag.startswith('R'):\n",
    "        return wordnet.ADV\n",
    "    else:\n",
    "        return wordnet.NOUN\n",
    "\n",
    "# Tokenize the sentence\n",
    "def lemmatizer(string):\n",
    "    \"\"\"\n",
    "    This function lemmatizes a string\n",
    "    V. Rani (https://medium.com/analytics-vidhya/nlp-tutorial-for-text\n",
    "                                    -classification-in-python-8f19cd17b49e)\n",
    "    Input\n",
    "    ---------\n",
    "    string: String\n",
    "        Raw text\n",
    "    Output\n",
    "    ---------\n",
    "    text : String\n",
    "        Lemmatized text\n",
    "    Example\n",
    "    -------\n",
    "    >>> text = lemmatizer('fastest machine learning')\n",
    "    >>> text\n",
    "    'fast machine learning'\n",
    "    \"\"\"\n",
    "    word_pos_tags = nltk.pos_tag(word_tokenize(string))  # Get position tags\n",
    "    # Map the position tag and lemmatize the word/token\n",
    "    a=[wl.lemmatize(tag[0], get_wordnet_pos(tag[1])) for idx, tag in enumerate(word_pos_tags)] \n",
    "    return \" \".join(a)\n",
    "\n",
    "\n",
    "def finalpreprocess(string):\n",
    "    \"\"\"\n",
    "    This function preprocesses text\n",
    "    V. Rani (https://medium.com/analytics-vidhya/nlp-tutorial-for-text\n",
    "                                    -classification-in-python-8f19cd17b49e)\n",
    "    Input\n",
    "    ---------\n",
    "    string: String\n",
    "        Raw text\n",
    "    Output\n",
    "    ---------\n",
    "    string : String\n",
    "        Preprocessed text\n",
    "    Example\n",
    "    -------\n",
    "    >>> text = finalpreprocess('~Machine learning 4 ever <3')\n",
    "    >>> text\n",
    "    'machine learning ever'\n",
    "    \"\"\"\n",
    "    return lemmatizer(stopword(preprocess(string)))\n",
    "\n",
    "\n",
    "# add clean description column to df\n",
    "new_jobs_dataset['clean_description'] = new_jobs_dataset['description'].apply(lambda x: finalpreprocess(x))\n",
    "new_jobs_dataset"
   ]
  },
  {
   "cell_type": "markdown",
   "id": "6f8a65ad",
   "metadata": {},
   "source": [
    "<div style=\"border-bottom: 3px solid black;\"></div>\n",
    "\n",
    "### Task 3.2.1 &mdash; Bags of words Vectorization"
   ]
  },
  {
   "cell_type": "code",
   "execution_count": 124,
   "id": "db9a035a",
   "metadata": {},
   "outputs": [],
   "source": [
    "from sklearn.feature_extraction.text import CountVectorizer\n",
    "from sklearn.model_selection import train_test_split\n",
    "\n",
    "# Bag-of-Words Model\n",
    "count_vect = CountVectorizer()\n",
    "X_bow = count_vect.fit_transform(new_jobs_dataset.clean_description)\n",
    "X_train_bow, X_test_bow, y_train_bow, y_test_bow  = train_test_split(X_bow, new_jobs_dataset['salary_labels'].astype('string'), test_size=0.20, random_state=42)"
   ]
  },
  {
   "cell_type": "code",
   "execution_count": 125,
   "id": "e7cfcb8b",
   "metadata": {},
   "outputs": [
    {
     "data": {
      "text/plain": [
       "(442, 13401)"
      ]
     },
     "execution_count": 125,
     "metadata": {},
     "output_type": "execute_result"
    }
   ],
   "source": [
    "X_train_bow.shape"
   ]
  },
  {
   "cell_type": "code",
   "execution_count": 126,
   "id": "5ed75ae6",
   "metadata": {},
   "outputs": [
    {
     "data": {
      "text/plain": [
       "(442,)"
      ]
     },
     "execution_count": 126,
     "metadata": {},
     "output_type": "execute_result"
    }
   ],
   "source": [
    "y_train_bow.shape"
   ]
  },
  {
   "cell_type": "markdown",
   "id": "b66af39e",
   "metadata": {},
   "source": [
    "<div style=\"border-bottom: 3px solid black;\"></div>\n",
    "\n",
    "### Task 3.2.2 &mdash; Term Frequency Vectorization"
   ]
  },
  {
   "cell_type": "code",
   "execution_count": 127,
   "id": "588e9f3f",
   "metadata": {},
   "outputs": [],
   "source": [
    "from sklearn.feature_extraction.text import TfidfTransformer\n",
    "\n",
    "# Term Frequency model\n",
    "tf_transformer = TfidfTransformer(use_idf=False).fit(X_bow)\n",
    "X_tf = tf_transformer.transform(X_bow)\n",
    "X_train_tf, X_test_tf, y_train_tf, y_test_tf = train_test_split(X_tf, new_jobs_dataset['salary_labels'].astype('string'), test_size=0.20, random_state=42)"
   ]
  },
  {
   "cell_type": "code",
   "execution_count": 128,
   "id": "ecef874e",
   "metadata": {},
   "outputs": [
    {
     "data": {
      "text/plain": [
       "(442, 13401)"
      ]
     },
     "execution_count": 128,
     "metadata": {},
     "output_type": "execute_result"
    }
   ],
   "source": [
    "X_train_tf.shape"
   ]
  },
  {
   "cell_type": "code",
   "execution_count": 129,
   "id": "e8c05191",
   "metadata": {},
   "outputs": [
    {
     "data": {
      "text/plain": [
       "(442,)"
      ]
     },
     "execution_count": 129,
     "metadata": {},
     "output_type": "execute_result"
    }
   ],
   "source": [
    "y_train_tf.shape"
   ]
  },
  {
   "cell_type": "markdown",
   "id": "ed9b8216",
   "metadata": {},
   "source": [
    "<div style=\"border-bottom: 3px solid black;\"></div>\n",
    "\n",
    "### Task 3.2.3 &mdash; Term Frequency times Inverse Document Frequency Vectorization"
   ]
  },
  {
   "cell_type": "code",
   "execution_count": 130,
   "id": "4ab6d6d2",
   "metadata": {},
   "outputs": [],
   "source": [
    "# Term Frequency–Inverse Document Frequency model\n",
    "tfidf_transformer = TfidfTransformer()\n",
    "X_tfidf = tfidf_transformer.fit_transform(X_bow)\n",
    "X_train_tfidf, X_test_tfidf, y_train_tfidf, y_test_tfidf = train_test_split(X_tfidf, new_jobs_dataset['salary_labels'].astype('string'), test_size=0.20, random_state=42)"
   ]
  },
  {
   "cell_type": "code",
   "execution_count": 101,
   "id": "62afa8ab",
   "metadata": {},
   "outputs": [
    {
     "data": {
      "text/plain": [
       "(442, 13401)"
      ]
     },
     "execution_count": 101,
     "metadata": {},
     "output_type": "execute_result"
    }
   ],
   "source": [
    "X_train_tfidf.shape"
   ]
  },
  {
   "cell_type": "code",
   "execution_count": 102,
   "id": "f38b89c5",
   "metadata": {},
   "outputs": [
    {
     "data": {
      "text/plain": [
       "(442,)"
      ]
     },
     "execution_count": 102,
     "metadata": {},
     "output_type": "execute_result"
    }
   ],
   "source": [
    "y_train_tfidf.shape"
   ]
  },
  {
   "cell_type": "markdown",
   "id": "7553fbe1",
   "metadata": {},
   "source": [
    "<div style=\"border-bottom: 3px solid black; margin-bottom:5px\"></div>\n",
    "<div style=\"border-bottom: 3px solid black\"></div>\n",
    "\n",
    "# 4. Model Training:\n",
    "\n",
    "Now that we have encoded the text data in different ways, we are ready to compare their performance with binary classification machine learning models."
   ]
  },
  {
   "cell_type": "markdown",
   "id": "7539b949",
   "metadata": {},
   "source": [
    "<div style=\"border-bottom: 3px solid black;\"></div>\n",
    "\n",
    "### Task 4.1 &mdash; Naive Bayes Classifier"
   ]
  },
  {
   "cell_type": "code",
   "execution_count": 211,
   "id": "7c1a4106",
   "metadata": {},
   "outputs": [],
   "source": [
    "from sklearn.naive_bayes import MultinomialNB\n",
    "from sklearn.metrics import classification_report, confusion_matrix, accuracy_score, plot_confusion_matrix\n",
    "from sklearn.pipeline import Pipeline\n",
    "from sklearn.model_selection import cross_val_score\n",
    "\n",
    "\n",
    "X_train, X_test, y_train, y_test = train_test_split(new_jobs_dataset['clean_description'], new_jobs_dataset['salary_labels'].astype('string'), test_size=0.20, random_state=42)\n",
    "# BOW Features + Naive Bayes Classifier\n",
    "nb_bow = Pipeline([\n",
    "    ('vect', CountVectorizer()),\n",
    "    ('clf', MultinomialNB()),\n",
    "])\n",
    "\n",
    "nb_tf = Pipeline([\n",
    "    ('vect', CountVectorizer()),\n",
    "    ('tfidf', TfidfTransformer(use_idf=False)),\n",
    "    ('clf', MultinomialNB()),\n",
    "])\n",
    "\n",
    "nb_tfidf = Pipeline([\n",
    "    ('vect', CountVectorizer()),\n",
    "    ('tfidf', TfidfTransformer(use_idf=True)),\n",
    "    ('clf', MultinomialNB()),\n",
    "])\n",
    "\n",
    "parameters = {'vect__ngram_range': [(1, 1), (1, 2), (1, 3), (2, 2), (2, 3), (3, 3), (3, 4)],\n",
    "              'vect__max_features': (50, 100, 500, 1000, 5000, 10000, 15000, 20000, None),\n",
    "              'clf__alpha': (1.0, 1e-2, 1e-3)}\n",
    "\n",
    "def performance(model):\n",
    "    \"\"\"\n",
    "    This function prints perfomance metrics for our classification models\n",
    "    J. Bazarbachian\n",
    "    Input\n",
    "    ---------\n",
    "    model : Pipeline object\n",
    "        Pipeline of estimators\n",
    "    Output\n",
    "    ---------\n",
    "    score : float\n",
    "        accuracy of model\n",
    "    scores : float\n",
    "        cross validation scores\n",
    "    classification_report : float\n",
    "        metrics: precision, recall, f-1 score, support    \n",
    "    plot_confusion_matrix : plot\n",
    "        plot of confusion matrix        \n",
    "    Example\n",
    "    -------\n",
    "    >>> performance(nb_bow)\n",
    "    Accuracy score: 66.67%\n",
    "    Cross-validated scores: [0.6741573  0.73033708 0.64772727 0.68181818 0.69318182]\n",
    "                          precision    recall  f1-score   support\n",
    "\n",
    "    (33499.999, 86500.0]       0.62      0.79      0.69        53\n",
    "     (86500.0, 147500.0]       0.74      0.55      0.63        58\n",
    "\n",
    "                accuracy                           0.67       111\n",
    "               macro avg       0.68      0.67      0.66       111\n",
    "            weighted avg       0.68      0.67      0.66       111\n",
    "\n",
    "    \"\"\"\n",
    "    model = model.fit(X_train, y_train)\n",
    "    y_pred  = model.predict(X_test)\n",
    "    score = accuracy_score(y_test, y_pred)\n",
    "    print(\"Accuracy score: %0.1f%%\" %(score*100))\n",
    "    scores = cross_val_score(model, X_train, y_train, cv=5)\n",
    "    print(\"Cross-validated scores:\", scores)\n",
    "    #printing classification report\n",
    "    target_names = model.classes_\n",
    "    print(classification_report(y_test, y_pred, target_names=target_names))\n",
    "    sns.set_theme(style=\"white\")\n",
    "    disp = plot_confusion_matrix(model, X_test, y_test,\n",
    "                                 display_labels=target_names,\n",
    "                                 cmap=plt.cm.Blues,\n",
    "                                 normalize=None)\n",
    "    disp.ax_.set_title(\"BOW Features + Naive Bayes Classifier\")"
   ]
  },
  {
   "cell_type": "code",
   "execution_count": 212,
   "id": "bf3f147f",
   "metadata": {
    "scrolled": false
   },
   "outputs": [
    {
     "name": "stdout",
     "output_type": "stream",
     "text": [
      "Accuracy score: 66.7%\n",
      "Cross-validated scores: [0.6741573  0.73033708 0.64772727 0.68181818 0.69318182]\n",
      "                      precision    recall  f1-score   support\n",
      "\n",
      "(33499.999, 86500.0]       0.62      0.79      0.69        53\n",
      " (86500.0, 147500.0]       0.74      0.55      0.63        58\n",
      "\n",
      "            accuracy                           0.67       111\n",
      "           macro avg       0.68      0.67      0.66       111\n",
      "        weighted avg       0.68      0.67      0.66       111\n",
      "\n"
     ]
    },
    {
     "data": {
      "image/png": "[encoded data removed]",
      "text/plain": [
       "<Figure size 432x288 with 2 Axes>"
      ]
     },
     "metadata": {},
     "output_type": "display_data"
    }
   ],
   "source": [
    "# BOW Features + Naive Bayes Classifier\n",
    "performance(nb_bow)"
   ]
  },
  {
   "cell_type": "code",
   "execution_count": 213,
   "id": "2414bea8",
   "metadata": {
    "scrolled": false
   },
   "outputs": [
    {
     "name": "stdout",
     "output_type": "stream",
     "text": [
      "Accuracy score: 65.8%\n",
      "Cross-validated scores: [0.6741573  0.75280899 0.64772727 0.65909091 0.73863636]\n",
      "                      precision    recall  f1-score   support\n",
      "\n",
      "(33499.999, 86500.0]       0.62      0.74      0.67        53\n",
      " (86500.0, 147500.0]       0.71      0.59      0.64        58\n",
      "\n",
      "            accuracy                           0.66       111\n",
      "           macro avg       0.66      0.66      0.66       111\n",
      "        weighted avg       0.67      0.66      0.66       111\n",
      "\n"
     ]
    },
    {
     "data": {
      "image/png": "[encoded data removed]",
      "text/plain": [
       "<Figure size 432x288 with 2 Axes>"
      ]
     },
     "metadata": {},
     "output_type": "display_data"
    }
   ],
   "source": [
    "# Tf Features + Naive Bayes Classifier\n",
    "performance(nb_tf)"
   ]
  },
  {
   "cell_type": "code",
   "execution_count": 214,
   "id": "e32d293e",
   "metadata": {
    "scrolled": false
   },
   "outputs": [
    {
     "name": "stdout",
     "output_type": "stream",
     "text": [
      "Accuracy score: 68.5%\n",
      "Cross-validated scores: [0.6741573  0.73033708 0.65909091 0.69318182 0.75      ]\n",
      "                      precision    recall  f1-score   support\n",
      "\n",
      "(33499.999, 86500.0]       0.65      0.74      0.69        53\n",
      " (86500.0, 147500.0]       0.73      0.64      0.68        58\n",
      "\n",
      "            accuracy                           0.68       111\n",
      "           macro avg       0.69      0.69      0.68       111\n",
      "        weighted avg       0.69      0.68      0.68       111\n",
      "\n"
     ]
    },
    {
     "data": {
      "image/png": "[encoded data removed]",
      "text/plain": [
       "<Figure size 432x288 with 2 Axes>"
      ]
     },
     "metadata": {},
     "output_type": "display_data"
    }
   ],
   "source": [
    "# Tf-idf Features + Naive Bayes Classifier\n",
    "performance(nb_tfidf)"
   ]
  },
  {
   "cell_type": "markdown",
   "id": "e61fac7f",
   "metadata": {},
   "source": [
    "<div style=\"border-bottom: 3px solid black;\"></div>\n",
    "\n",
    "### Task 4.2 &mdash; Linear Support Vector Machine Classifier"
   ]
  },
  {
   "cell_type": "code",
   "execution_count": 238,
   "id": "496118f5",
   "metadata": {},
   "outputs": [],
   "source": [
    "from sklearn.linear_model import SGDClassifier\n",
    "\n",
    "# BOW Features + SGD Classifier\n",
    "sgd_bow = Pipeline([\n",
    "    ('vect', CountVectorizer()),\n",
    "    ('clf', SGDClassifier(random_state=42)),\n",
    "])\n",
    "\n",
    "sgd_tf = Pipeline([\n",
    "    ('vect', CountVectorizer()),\n",
    "    ('tfidf', TfidfTransformer(use_idf=False)),\n",
    "    ('clf', SGDClassifier(random_state=42)),\n",
    "])\n",
    "\n",
    "sgd_tfidf = Pipeline([\n",
    "    ('vect', CountVectorizer()),\n",
    "    ('tfidf', TfidfTransformer(use_idf=True)),\n",
    "    ('clf', SGDClassifier(random_state=42)),\n",
    "])\n",
    "\n",
    "parameters = {'vect__ngram_range': [(1, 1), (1, 2), (1, 3), (2, 2), (2, 3), (3, 3), (3, 4)],\n",
    "              'clf__loss': ('hinge', 'perceptron'), \n",
    "              'clf__penalty': ('l1', 'l2', None),\n",
    "              'clf__eta0': [1.0],\n",
    "              'clf__learning_rate': ['constant', 'optimal'],\n",
    "              'clf__alpha': (1e-3, 1e-4),\n",
    "              'clf__max_iter': [100]}"
   ]
  },
  {
   "cell_type": "code",
   "execution_count": 218,
   "id": "29fe4bad",
   "metadata": {},
   "outputs": [
    {
     "name": "stdout",
     "output_type": "stream",
     "text": [
      "Accuracy score: 70.3%\n",
      "Cross-validated scores: [0.62921348 0.73033708 0.71590909 0.80681818 0.73863636]\n",
      "                      precision    recall  f1-score   support\n",
      "\n",
      "(33499.999, 86500.0]       0.64      0.87      0.74        53\n",
      " (86500.0, 147500.0]       0.82      0.55      0.66        58\n",
      "\n",
      "            accuracy                           0.70       111\n",
      "           macro avg       0.73      0.71      0.70       111\n",
      "        weighted avg       0.73      0.70      0.70       111\n",
      "\n"
     ]
    },
    {
     "data": {
      "image/png": "[encoded data removed]",
      "text/plain": [
       "<Figure size 432x288 with 2 Axes>"
      ]
     },
     "metadata": {},
     "output_type": "display_data"
    }
   ],
   "source": [
    "# BOW Features + SGD Classifier\n",
    "performance(sgd_bow)"
   ]
  },
  {
   "cell_type": "code",
   "execution_count": 219,
   "id": "9b457a70",
   "metadata": {
    "scrolled": false
   },
   "outputs": [
    {
     "name": "stdout",
     "output_type": "stream",
     "text": [
      "Accuracy score: 71.2%\n",
      "Cross-validated scores: [0.71910112 0.7752809  0.65909091 0.78409091 0.73863636]\n",
      "                      precision    recall  f1-score   support\n",
      "\n",
      "(33499.999, 86500.0]       0.66      0.83      0.73        53\n",
      " (86500.0, 147500.0]       0.80      0.60      0.69        58\n",
      "\n",
      "            accuracy                           0.71       111\n",
      "           macro avg       0.73      0.72      0.71       111\n",
      "        weighted avg       0.73      0.71      0.71       111\n",
      "\n"
     ]
    },
    {
     "data": {
      "image/png": "[encoded data removed]",
      "text/plain": [
       "<Figure size 432x288 with 2 Axes>"
      ]
     },
     "metadata": {},
     "output_type": "display_data"
    }
   ],
   "source": [
    "# Tf Features + SGD Classifier\n",
    "performance(sgd_tf)"
   ]
  },
  {
   "cell_type": "code",
   "execution_count": 220,
   "id": "f1385888",
   "metadata": {
    "scrolled": false
   },
   "outputs": [
    {
     "name": "stdout",
     "output_type": "stream",
     "text": [
      "Accuracy score: 74.8%\n",
      "Cross-validated scores: [0.7752809  0.79775281 0.72727273 0.77272727 0.78409091]\n",
      "                      precision    recall  f1-score   support\n",
      "\n",
      "(33499.999, 86500.0]       0.70      0.81      0.75        53\n",
      " (86500.0, 147500.0]       0.80      0.69      0.74        58\n",
      "\n",
      "            accuracy                           0.75       111\n",
      "           macro avg       0.75      0.75      0.75       111\n",
      "        weighted avg       0.75      0.75      0.75       111\n",
      "\n"
     ]
    },
    {
     "data": {
      "image/png": "[encoded data removed]",
      "text/plain": [
       "<Figure size 432x288 with 2 Axes>"
      ]
     },
     "metadata": {},
     "output_type": "display_data"
    }
   ],
   "source": [
    "# Tf-idf Features + SGD Classifier\n",
    "performance(sgd_tfidf)"
   ]
  },
  {
   "cell_type": "markdown",
   "id": "20b1910e",
   "metadata": {},
   "source": [
    "<div style=\"border-bottom: 3px solid black;\"></div>\n",
    "\n",
    "### Task 4.3 &mdash; Logistic Regression Classifier"
   ]
  },
  {
   "cell_type": "code",
   "execution_count": 254,
   "id": "ee56680b",
   "metadata": {},
   "outputs": [],
   "source": [
    "from sklearn.linear_model import LogisticRegression\n",
    "\n",
    "log_bow = Pipeline([\n",
    "    ('vect', CountVectorizer()),\n",
    "    ('clf', LogisticRegression(n_jobs=-1)),\n",
    "])\n",
    "\n",
    "log_tf = Pipeline([\n",
    "    ('vect', CountVectorizer()),\n",
    "    ('tfidf', TfidfTransformer(use_idf=False)),\n",
    "    ('clf', LogisticRegression(n_jobs=-1)),\n",
    "])\n",
    "\n",
    "log_tfidf = Pipeline([\n",
    "    ('vect', CountVectorizer()),\n",
    "    ('tfidf', TfidfTransformer(use_idf=True)),\n",
    "    ('clf', LogisticRegression(n_jobs=-1)),\n",
    "])\n",
    "\n",
    "parameters = {'vect__ngram_range': [(1, 1), (1, 2), (1, 3), (2, 2), (2, 3), (3, 3), (3, 4)],\n",
    "              'clf__C': (1e5, 1e4, 1e3)}"
   ]
  },
  {
   "cell_type": "code",
   "execution_count": 255,
   "id": "932b8fbd",
   "metadata": {
    "scrolled": false
   },
   "outputs": [
    {
     "name": "stdout",
     "output_type": "stream",
     "text": [
      "Accuracy score: 70.3%\n",
      "Cross-validated scores: [0.73033708 0.83146067 0.69318182 0.80681818 0.76136364]\n",
      "                      precision    recall  f1-score   support\n",
      "\n",
      "(33499.999, 86500.0]       0.65      0.83      0.73        53\n",
      " (86500.0, 147500.0]       0.79      0.59      0.67        58\n",
      "\n",
      "            accuracy                           0.70       111\n",
      "           macro avg       0.72      0.71      0.70       111\n",
      "        weighted avg       0.72      0.70      0.70       111\n",
      "\n"
     ]
    },
    {
     "data": {
      "image/png": "[encoded data removed]",
      "text/plain": [
       "<Figure size 432x288 with 2 Axes>"
      ]
     },
     "metadata": {},
     "output_type": "display_data"
    }
   ],
   "source": [
    "# BOW Features + Logistic Regression Classifier\n",
    "performance(log_bow)"
   ]
  },
  {
   "cell_type": "code",
   "execution_count": 256,
   "id": "029ac960",
   "metadata": {
    "scrolled": false
   },
   "outputs": [
    {
     "name": "stdout",
     "output_type": "stream",
     "text": [
      "Accuracy score: 66.7%\n",
      "Cross-validated scores: [0.68539326 0.75280899 0.625      0.70454545 0.76136364]\n",
      "                      precision    recall  f1-score   support\n",
      "\n",
      "(33499.999, 86500.0]       0.61      0.83      0.70        53\n",
      " (86500.0, 147500.0]       0.77      0.52      0.62        58\n",
      "\n",
      "            accuracy                           0.67       111\n",
      "           macro avg       0.69      0.67      0.66       111\n",
      "        weighted avg       0.69      0.67      0.66       111\n",
      "\n"
     ]
    },
    {
     "data": {
      "image/png": "[encoded data removed]",
      "text/plain": [
       "<Figure size 432x288 with 2 Axes>"
      ]
     },
     "metadata": {},
     "output_type": "display_data"
    }
   ],
   "source": [
    "# Tf Features + Logistic Regression Classifier\n",
    "performance(log_tf)"
   ]
  },
  {
   "cell_type": "code",
   "execution_count": 245,
   "id": "ec7ee894",
   "metadata": {
    "scrolled": false
   },
   "outputs": [
    {
     "name": "stdout",
     "output_type": "stream",
     "text": [
      "Accuracy score: 67.6%\n",
      "Cross-validated scores: [0.69662921 0.80898876 0.65909091 0.71590909 0.76136364]\n",
      "                      precision    recall  f1-score   support\n",
      "\n",
      "(33499.999, 86500.0]       0.62      0.83      0.71        53\n",
      " (86500.0, 147500.0]       0.78      0.53      0.63        58\n",
      "\n",
      "            accuracy                           0.68       111\n",
      "           macro avg       0.70      0.68      0.67       111\n",
      "        weighted avg       0.70      0.68      0.67       111\n",
      "\n"
     ]
    },
    {
     "data": {
      "image/png": "[encoded data removed]",
      "text/plain": [
       "<Figure size 432x288 with 2 Axes>"
      ]
     },
     "metadata": {},
     "output_type": "display_data"
    }
   ],
   "source": [
    "# Tf-idf Features + Logistic Regression Classifier\n",
    "performance(log_tfidf)"
   ]
  },
  {
   "cell_type": "markdown",
   "id": "67a256d0",
   "metadata": {},
   "source": [
    "<div style=\"border-bottom: 3px solid black; margin-bottom:5px\"></div>\n",
    "<div style=\"border-bottom: 3px solid black\"></div>\n",
    "\n",
    "# 5. Hyperparameter Tuning:"
   ]
  },
  {
   "cell_type": "code",
   "execution_count": 206,
   "id": "08947fe7",
   "metadata": {},
   "outputs": [],
   "source": [
    "from sklearn.model_selection import GridSearchCV\n",
    "\n",
    "def gridsearch(model):\n",
    "    \"\"\"\n",
    "    This function performs GridSearch for our classification models\n",
    "    J. Bazarbachian\n",
    "    Input\n",
    "    ---------\n",
    "    model : Pipeline object\n",
    "        Pipeline of estimators\n",
    "    Output\n",
    "    ---------\n",
    "    gridcv.best_params_ : float\n",
    "        accuracy of model\n",
    "    grid_accuracy_train : float\n",
    "        training set accuracy scores\n",
    "    grid_accuracy_test : float\n",
    "        test set accuracy scores            \n",
    "    Example\n",
    "    -------\n",
    "    >>> gridsearch(nb_bow)\n",
    "    Parameter setting that gave the best results on the hold out data:\n",
    "    {'clf__alpha': 0.001, 'vect__max_features': None, 'vect__ngram_range': (2, 3)}\n",
    "    Grid search accuracy:\n",
    "     99.1% train accuracy\n",
    "     76.6% test accuracy\n",
    "    \"\"\"\n",
    "    gridcv = GridSearchCV(model, parameters, n_jobs=-1)\n",
    "    gridcv = gridcv.fit(X_train, y_train)\n",
    "    print('Parameter setting that gave the best results on the hold out data:')\n",
    "    print(gridcv.best_params_)\n",
    "    grid_accuracy_train = gridcv.best_estimator_.score(X_train, y_train)\n",
    "    grid_accuracy_test  = gridcv.best_estimator_.score(X_test, y_test)\n",
    "    print(\"Grid search accuracy:\")\n",
    "    print(\" %.1f%% train accuracy\" % (grid_accuracy_train*100))\n",
    "    print(\" %.1f%% test accuracy\" % (grid_accuracy_test*100))"
   ]
  },
  {
   "cell_type": "code",
   "execution_count": 208,
   "id": "d7445442",
   "metadata": {},
   "outputs": [
    {
     "name": "stdout",
     "output_type": "stream",
     "text": [
      "Parameter setting that gave the best results on the hold out data:\n",
      "{'clf__alpha': 0.001, 'vect__max_features': None, 'vect__ngram_range': (2, 3)}\n",
      "Grid search accuracy:\n",
      " 99.1% train accuracy\n",
      " 76.6% test accuracy\n"
     ]
    }
   ],
   "source": [
    "# BOW Features + Naive Bayes Classifier\n",
    "gridsearch(nb_bow)"
   ]
  },
  {
   "cell_type": "code",
   "execution_count": 209,
   "id": "d019778a",
   "metadata": {},
   "outputs": [
    {
     "name": "stdout",
     "output_type": "stream",
     "text": [
      "Parameter setting that gave the best results on the hold out data:\n",
      "{'clf__alpha': 0.001, 'vect__max_features': None, 'vect__ngram_range': (1, 2)}\n",
      "Grid search accuracy:\n",
      " 96.4% train accuracy\n",
      " 73.0% test accuracy\n"
     ]
    }
   ],
   "source": [
    "# Tf Features + Naive Bayes Classifier\n",
    "gridsearch(nb_tf)"
   ]
  },
  {
   "cell_type": "code",
   "execution_count": 210,
   "id": "922cfe05",
   "metadata": {},
   "outputs": [
    {
     "name": "stdout",
     "output_type": "stream",
     "text": [
      "Parameter setting that gave the best results on the hold out data:\n",
      "{'clf__alpha': 0.001, 'vect__max_features': None, 'vect__ngram_range': (3, 3)}\n",
      "Grid search accuracy:\n",
      " 99.8% train accuracy\n",
      " 71.2% test accuracy\n"
     ]
    }
   ],
   "source": [
    "# Tf-idf Features + Naive Bayes Classifier\n",
    "gridsearch(nb_tfidf)"
   ]
  },
  {
   "cell_type": "code",
   "execution_count": 239,
   "id": "a638c743",
   "metadata": {},
   "outputs": [
    {
     "name": "stdout",
     "output_type": "stream",
     "text": [
      "Parameter setting that gave the best results on the hold out data:\n",
      "{'clf__alpha': 0.001, 'clf__eta0': 1.0, 'clf__learning_rate': 'constant', 'clf__loss': 'perceptron', 'clf__max_iter': 100, 'clf__penalty': None, 'vect__ngram_range': (1, 1)}\n",
      "Grid search accuracy:\n",
      " 98.9% train accuracy\n",
      " 76.6% test accuracy\n"
     ]
    }
   ],
   "source": [
    "# BOW Features + SGD Classifier\n",
    "gridsearch(sgd_bow)"
   ]
  },
  {
   "cell_type": "code",
   "execution_count": 240,
   "id": "9853a1bd",
   "metadata": {},
   "outputs": [
    {
     "name": "stdout",
     "output_type": "stream",
     "text": [
      "Parameter setting that gave the best results on the hold out data:\n",
      "{'clf__alpha': 0.0001, 'clf__eta0': 1.0, 'clf__learning_rate': 'optimal', 'clf__loss': 'hinge', 'clf__max_iter': 100, 'clf__penalty': None, 'vect__ngram_range': (1, 1)}\n",
      "Grid search accuracy:\n",
      " 99.8% train accuracy\n",
      " 72.1% test accuracy\n"
     ]
    }
   ],
   "source": [
    "# Tf Features + SGD Classifier\n",
    "gridsearch(sgd_tf)"
   ]
  },
  {
   "cell_type": "code",
   "execution_count": 241,
   "id": "fcc49a9a",
   "metadata": {},
   "outputs": [
    {
     "name": "stdout",
     "output_type": "stream",
     "text": [
      "Parameter setting that gave the best results on the hold out data:\n",
      "{'clf__alpha': 0.001, 'clf__eta0': 1.0, 'clf__learning_rate': 'constant', 'clf__loss': 'hinge', 'clf__max_iter': 100, 'clf__penalty': 'l2', 'vect__ngram_range': (1, 2)}\n",
      "Grid search accuracy:\n",
      " 99.5% train accuracy\n",
      " 73.0% test accuracy\n"
     ]
    }
   ],
   "source": [
    "# Tf-idf Features + SGD Classifier\n",
    "gridsearch(sgd_tfidf)"
   ]
  },
  {
   "cell_type": "code",
   "execution_count": 247,
   "id": "54335976",
   "metadata": {
    "scrolled": false
   },
   "outputs": [
    {
     "name": "stdout",
     "output_type": "stream",
     "text": [
      "Parameter setting that gave the best results on the hold out data:\n",
      "{'clf__C': 10000.0, 'vect__ngram_range': (1, 2)}\n",
      "Grid search accuracy:\n",
      " 99.8% train accuracy\n",
      " 70.3% test accuracy\n"
     ]
    }
   ],
   "source": [
    "# BOW Features + Logistic Regression Classifier\n",
    "gridsearch(log_bow)"
   ]
  },
  {
   "cell_type": "code",
   "execution_count": 248,
   "id": "c24bed24",
   "metadata": {
    "scrolled": false
   },
   "outputs": [
    {
     "name": "stdout",
     "output_type": "stream",
     "text": [
      "Parameter setting that gave the best results on the hold out data:\n",
      "{'clf__C': 100000.0, 'vect__ngram_range': (1, 2)}\n",
      "Grid search accuracy:\n",
      " 99.8% train accuracy\n",
      " 73.9% test accuracy\n"
     ]
    }
   ],
   "source": [
    "# Tf Features + Logistic Regression Classifier\n",
    "gridsearch(log_tf)"
   ]
  },
  {
   "cell_type": "code",
   "execution_count": 249,
   "id": "d19c0920",
   "metadata": {
    "scrolled": false
   },
   "outputs": [
    {
     "name": "stdout",
     "output_type": "stream",
     "text": [
      "Parameter setting that gave the best results on the hold out data:\n",
      "{'clf__C': 100000.0, 'vect__ngram_range': (1, 1)}\n",
      "Grid search accuracy:\n",
      " 99.8% train accuracy\n",
      " 73.9% test accuracy\n"
     ]
    }
   ],
   "source": [
    "# Tf-idf Features + Logistic Regression Classifier\n",
    "gridsearch(log_tfidf)"
   ]
  },
  {
   "cell_type": "code",
   "execution_count": 122,
   "id": "7d01e088",
   "metadata": {},
   "outputs": [],
   "source": [
    "%pycodestyle_off"
   ]
  }
 ],
 "metadata": {
  "kernelspec": {
   "display_name": "Python 3",
   "language": "python",
   "name": "python3"
  },
  "language_info": {
   "codemirror_mode": {
    "name": "ipython",
    "version": 3
   },
   "file_extension": ".py",
   "mimetype": "text/x-python",
   "name": "python",
   "nbconvert_exporter": "python",
   "pygments_lexer": "ipython3",
   "version": "3.8.8"
  }
 },
 "nbformat": 4,
 "nbformat_minor": 5
}
